{
  "cells": [
    {
      "cell_type": "markdown",
      "metadata": {
        "id": "fhIqm9nobeij"
      },
      "source": [
        "# Машинный перевод и озвучивание видеозаписей на русском языке"
      ]
    },
    {
      "cell_type": "markdown",
      "metadata": {},
      "source": [
        "## О проекте"
      ]
    },
    {
      "cell_type": "markdown",
      "metadata": {},
      "source": [
        "[Есть](https://www.youtube.com/watch?v=p3lsYlod5OU&ab_channel=LexFridman) интересная беседа [Лекса Фридмана](https://en.wikipedia.org/wiki/Lex_Fridman) с [Михаилом Левиным](https://en.wikipedia.org/wiki/Michael_Levin_(biologist)). Несмотря, на русское происхождение обоих собеседников разговор они ведут на английском. Цель проекта перевести и озвучить беседу на русском языке.\n",
        "\n",
        "В проекте используется [готовая расшифровка с таймингом](https://karpathy.ai/lexicap/0325-large.html), созданная с помощью пакета [OpenAI Wisper](https://github.com/openai/whisper).\n",
        "Далее описывается парсинг расшифровки, перевод на русский язык, машинное озвучивание, выравнивание длины русских фрагментов с соответствующими оригинальными.\n",
        "\n",
        "Данный подход можно использовать для перевода и озвучивания любой видеозаписи."
      ]
    },
    {
      "cell_type": "markdown",
      "metadata": {
        "id": "QwHHuGEObeio"
      },
      "source": [
        "## Устанавливаем библиотеки"
      ]
    },
    {
      "cell_type": "code",
      "execution_count": null,
      "metadata": {
        "colab": {
          "base_uri": "https://localhost:8080/"
        },
        "id": "tlYFsjZJjzR7",
        "outputId": "17e6e958-c734-4093-9d69-f327a92b7e6e"
      },
      "outputs": [],
      "source": [
        "# Библиотека для работы c Google Translate\n",
        "%pip install googletrans==3.1.0a0\n",
        "\n",
        "# Библиотека для генерации tts\n",
        "%pip install pyttsx3\n",
        "\n",
        "# Прогресс-бар\n",
        "%pip install tqdm"
      ]
    },
    {
      "cell_type": "markdown",
      "metadata": {
        "id": "fWDfesh2beiv"
      },
      "source": [
        "## Импортируем необходимые для работы модули"
      ]
    },
    {
      "cell_type": "code",
      "execution_count": null,
      "metadata": {
        "id": "X_PNSa_KjzR_"
      },
      "outputs": [],
      "source": [
        "from tqdm import tqdm\n",
        "from bs4 import BeautifulSoup\n",
        "from datetime import datetime\n",
        "from scipy.io.wavfile import read, write\n",
        "from googletrans import Translator\n",
        "\n",
        "import os\n",
        "import pyttsx3\n",
        "import requests\n",
        "import numpy as np\n",
        "import pandas as pd\n"
      ]
    },
    {
      "cell_type": "markdown",
      "metadata": {
        "id": "V-9FvG0jbei1"
      },
      "source": [
        "## Парсинг расшифровки с таймингом"
      ]
    },
    {
      "cell_type": "markdown",
      "metadata": {},
      "source": [
        "Для парсинга используем библиотеку `BeatifulSoup`:"
      ]
    },
    {
      "cell_type": "code",
      "execution_count": null,
      "metadata": {
        "id": "sM1zeSyUjzSD"
      },
      "outputs": [],
      "source": [
        "url = 'https://karpathy.ai/lexicap/0325-large.html'\n",
        "data = requests.get(url).text\n",
        "soup = BeautifulSoup(data)"
      ]
    },
    {
      "cell_type": "markdown",
      "metadata": {
        "id": "yTjxnSFebei3"
      },
      "source": [
        "## Обработка английского текста"
      ]
    },
    {
      "cell_type": "markdown",
      "metadata": {},
      "source": [
        "Выделим фрагменты текста и их тайминги в отдельные списки:"
      ]
    },
    {
      "cell_type": "code",
      "execution_count": null,
      "metadata": {
        "id": "90FAjblN_YGR"
      },
      "outputs": [],
      "source": [
        "t_divs = soup.find_all('div', {'class': 't'})\n",
        "en_text = []\n",
        "for div in t_divs:\n",
        "    en_text.append(div.text)\n",
        "    # if len(div.text) < 66:\n",
        "    #     text += '\\n'\n",
        "\n",
        "s_divs = soup.find_all('div', {'class': 's'})\n",
        "timing = []\n",
        "for div in s_divs:\n",
        "    timing.append(div.a.text)"
      ]
    },
    {
      "cell_type": "markdown",
      "metadata": {},
      "source": [
        "Для удовлетворительного качества необходимо переводить текст как минимум целыми предложениями. В качестве знаков для разделения используем точку и вопросительный знак."
      ]
    },
    {
      "cell_type": "code",
      "execution_count": null,
      "metadata": {
        "id": "YnDKkBZY_4SI"
      },
      "outputs": [],
      "source": [
        "def sign_finder(sign, str):\n",
        "    '''Finds the last position of the sing in the string'''\n",
        "    rev_pos = str[::-1].find(sign)\n",
        "    if rev_pos == -1:\n",
        "        return 0    \n",
        "    pos = len(str) - rev_pos\n",
        "    return pos\n",
        "def pos_finder(text):\n",
        "    signs = ['.', '?']\n",
        "    pos = []\n",
        "    for sign in signs:\n",
        "        pos.append(sign_finder(sign, text))\n",
        "    return max(pos)"
      ]
    },
    {
      "cell_type": "markdown",
      "metadata": {},
      "source": [
        "Перенесём незаконченные фрагменты предложений к фрагментам, содержащим знаки конца предложения, и внесём соответствующие поправки в тайминг."
      ]
    },
    {
      "cell_type": "code",
      "execution_count": null,
      "metadata": {
        "id": "Zfrthd1t_dWf"
      },
      "outputs": [],
      "source": [
        "dense_text = []\n",
        "new_timing = []\n",
        "buffer = []\n",
        "time = []\n",
        "for i, text in enumerate(en_text):\n",
        "    pos = pos_finder(text)\n",
        "    if (pos == 0) & (i < len(en_text) - 1):\n",
        "        buffer.append(text)\n",
        "        time.append(timing[i])\n",
        "    elif len(buffer) > 0:\n",
        "        for i in range(len(buffer)):\n",
        "            text = buffer[-1] + text\n",
        "        dense_text.append(text)\n",
        "        new_timing.append(time[0])\n",
        "        buffer.clear()\n",
        "        time.clear()\n",
        "    else:\n",
        "        dense_text.append(text)\n",
        "        new_timing.append(timing[i])\n"
      ]
    },
    {
      "cell_type": "markdown",
      "metadata": {},
      "source": [
        "Из данных списков создадим таблицу `Pandas`: "
      ]
    },
    {
      "cell_type": "code",
      "execution_count": null,
      "metadata": {
        "id": "0QLp2OY5jzSH"
      },
      "outputs": [],
      "source": [
        "dict = {'timing': new_timing, 'en_text': dense_text}\n",
        "df = pd.DataFrame(dict)\n",
        "df"
      ]
    },
    {
      "cell_type": "markdown",
      "metadata": {},
      "source": [
        "Тайминги переведем в формат `DateFrame` и вычислим продожительность оригинальных фрагментов, сохранив их в отдельный столбец:"
      ]
    },
    {
      "cell_type": "code",
      "execution_count": null,
      "metadata": {
        "id": "Mt0udXiGbei5"
      },
      "outputs": [],
      "source": [
        "format = '%H:%M:%S.%f'\n",
        "def duration_calculator(row):\n",
        "    '''Calculates duration speech fragment in a row'''\n",
        "    idx = row.name\n",
        "    time1 = row['timing'] + '000'\n",
        "    if idx == len(df) - 1:\n",
        "        return datetime.strptime(\"03:00:20.000000\", format) - datetime.strptime(time1, format)    \n",
        "    time2 = df.loc[idx + 1, 'timing'] + '000'\n",
        "    return datetime.strptime(time2, format) - datetime.strptime(time1, format)\n",
        "\n",
        "df['duration'] = df.apply(duration_calculator, axis=1)\n",
        "df['duration'] = df['duration'].apply(lambda x: x.total_seconds())\n",
        "df"
      ]
    },
    {
      "cell_type": "markdown",
      "metadata": {},
      "source": [
        "Посмотрим на длину фрагментов:"
      ]
    },
    {
      "cell_type": "code",
      "execution_count": null,
      "metadata": {
        "colab": {
          "base_uri": "https://localhost:8080/"
        },
        "id": "PIwNRDx4FagG",
        "outputId": "e31c6a8a-68b5-41b4-c915-52601cd82cdb"
      },
      "outputs": [],
      "source": [
        "df.en_text.apply(len).describe()"
      ]
    },
    {
      "cell_type": "markdown",
      "metadata": {},
      "source": [
        "Самый короткий 5 символов, а длинный -- 574. \n",
        "\n",
        "Для перевода фрагментов текста в отдельные предложения (группы предложений) и определения соответствующей им временной продолжительности мне будет удобнее работать со списками, а не таблицей."
      ]
    },
    {
      "cell_type": "code",
      "execution_count": null,
      "metadata": {
        "id": "7FkIVmdc-W5c"
      },
      "outputs": [],
      "source": [
        "text = list(df.en_text)\n",
        "duration = list(df.duration)"
      ]
    },
    {
      "cell_type": "markdown",
      "metadata": {},
      "source": [
        "Будем ориентироваться на знаки окончания предложения в конце фрагмента:"
      ]
    },
    {
      "cell_type": "code",
      "execution_count": null,
      "metadata": {
        "id": "NxT0KDyK_twL"
      },
      "outputs": [],
      "source": [
        "def min_pos_finder(text):\n",
        "    '''Returns the first position of the signs in the text'''\n",
        "    signs = ['.', '?']\n",
        "    pos = []\n",
        "    for sign in signs:\n",
        "        pos.append(text.find(sign))\n",
        "    if min(pos) == -1:\n",
        "        return max(pos) + 1\n",
        "    else:\n",
        "        return min(pos) + 1"
      ]
    },
    {
      "cell_type": "markdown",
      "metadata": {},
      "source": [
        "Собственно переносим, что нужно в тексте и вносим, соответствующие изменения в их длительность:"
      ]
    },
    {
      "cell_type": "code",
      "execution_count": null,
      "metadata": {
        "id": "XmUI4oSb-i5m"
      },
      "outputs": [],
      "source": [
        "for i, row in enumerate (text):\n",
        "    if i != 0:\n",
        "        pos = min_pos_finder(row)\n",
        "        head = row[:pos]\n",
        "        tail = row[pos:]\n",
        "        duration[i - 1] = duration[i - 1] + duration[i] * len(head) / len(row)\n",
        "        duration[i] = duration[i] * len(tail) / len(row)\n",
        "        text[i - 1] = text[i - 1] + head\n",
        "        text[i] = tail         \n"
      ]
    },
    {
      "cell_type": "code",
      "execution_count": null,
      "metadata": {
        "colab": {
          "base_uri": "https://localhost:8080/"
        },
        "id": "N3FdfaQTG_d5",
        "outputId": "0164cbff-4cec-4b48-e1b4-1e128ff47881"
      },
      "outputs": [],
      "source": [
        "size = 0\n",
        "for row in text:\n",
        "    size += len(row)\n",
        "\n",
        "print('Количество знаков в исходном тексте: ', df.en_text.apply(len).sum())\n",
        "print('Количество знаков итоговом тексте: ', size)\n",
        "print('Исходная общая продолжительность: ', sum(duration))\n",
        "print('Общая продолжительность после обработки: ', df.duration.sum())\n"
      ]
    },
    {
      "cell_type": "markdown",
      "metadata": {},
      "source": [
        "Всё на месте. Возваращаем данные обратно в таблицу."
      ]
    },
    {
      "cell_type": "code",
      "execution_count": null,
      "metadata": {},
      "outputs": [],
      "source": [
        "df['en_text'] = text\n",
        "df['duration'] = duration\n",
        "df"
      ]
    },
    {
      "cell_type": "markdown",
      "metadata": {
        "id": "6LoLeH3XbejD"
      },
      "source": [
        "## Перевод текста на русский"
      ]
    },
    {
      "cell_type": "markdown",
      "metadata": {},
      "source": [
        "Переводим текст на русский:"
      ]
    },
    {
      "cell_type": "code",
      "execution_count": null,
      "metadata": {
        "colab": {
          "base_uri": "https://localhost:8080/"
        },
        "id": "R5WeJDnNN7FI",
        "outputId": "1363f4a5-8e3a-478f-9098-d8bc70f62c66"
      },
      "outputs": [],
      "source": [
        "translator = Translator()\n",
        "ru_text = []\n",
        "for row in tqdm(text):\n",
        "    ru_text.append(translator.translate(row, src='en', dest='ru').text)"
      ]
    },
    {
      "cell_type": "markdown",
      "metadata": {},
      "source": [
        "Короткими фрагментами переводить данный текст всё же долго. Кроме того, вероятно переводчик может учитывать контекст, что положительным образом должно сказываться на переводе. Однако наш текстовый блок слишком большой для одномоментного перевода, переводчик не справиться. Желательно подобрать максимальный размер группы текстов опытным путём, у меня это 90. Меньше - дольше, а больше - переводчик не справляется. Однако необходимо вставить подходящий маркер для обратного разъединения строк с чем мне не удалось справиться. Но код, на всякий случай, оставляю."
      ]
    },
    {
      "cell_type": "code",
      "execution_count": null,
      "metadata": {},
      "outputs": [],
      "source": [
        "# print(len(df))\n",
        "# translator = Translator()\n",
        "# ru_text = []\n",
        "\n",
        "# batch_size = 80\n",
        "# start = 0\n",
        "# for i in tqdm(range(round(len(df) / batch_size))):    \n",
        "#     batch = df.en_text[start:start+batch_size]\n",
        "    \n",
        "#     en_batch = '*'.join(batch)\n",
        "#     ru_batch = translator.translate(en_batch, src='en', dest='ru').text\n",
        "#     # print(1, ru_batch[:100])\n",
        "#     ru_text.extend(ru_batch.split('*'))\n",
        "#     start += batch_size\n",
        "# len(ru_text)"
      ]
    },
    {
      "cell_type": "code",
      "execution_count": null,
      "metadata": {},
      "outputs": [],
      "source": [
        "for i, row in enumerate(ru_text):\n",
        "    if row == '':\n",
        "        ru_text.pop(i)\n",
        "len(ru_text)"
      ]
    },
    {
      "cell_type": "code",
      "execution_count": null,
      "metadata": {},
      "outputs": [],
      "source": [
        "df['ru_text'] = ru_text"
      ]
    },
    {
      "cell_type": "markdown",
      "metadata": {},
      "source": [
        "Посмотрим что получилось:"
      ]
    },
    {
      "cell_type": "code",
      "execution_count": null,
      "metadata": {
        "colab": {
          "base_uri": "https://localhost:8080/"
        },
        "id": "FjaNC5ewPcqX",
        "outputId": "c63edcf5-1ea0-4d80-e50f-e07a0b0ad952"
      },
      "outputs": [],
      "source": [
        "for row in ru_text[:10]:\n",
        "    print(row)"
      ]
    },
    {
      "cell_type": "markdown",
      "metadata": {},
      "source": [
        "Боже мой! \"размером примерно два сантиметра в сантиметре или два в размере\".\n",
        "\n",
        "С некоторыми фрагментами текста неплохо справляется переводчик `DeepL`, но, к сожалению, перевод текстов более 5 000  знаков требует подписки, а для россиян, в данный момент, она не предусмотрена.\n",
        "\n",
        "Изменения в текст перевода можно внести, например, так:"
      ]
    },
    {
      "cell_type": "code",
      "execution_count": null,
      "metadata": {
        "id": "xFkhkpVFX5Ma"
      },
      "outputs": [],
      "source": [
        "ru_text[0] = 'Оказывается, если обучить планарий, а затем отрезать им голову, хвост регенерирует совершенно новый мозг, который все еще помнит первоначальную информацию. Я думаю, что в планариях кроется ответ практически на все глубокие вопросы жизни.'\n",
        "ru_text[2] = 'У них много различных внутренних органов, но они такие маленькие, они размером примерно два сантиметра на один.'"
      ]
    },
    {
      "cell_type": "markdown",
      "metadata": {},
      "source": [
        "Создадим заново датафрейм с текстами на двух языках, их продолжительностью, и сохраним его, при необходимости, в `csv`-файл."
      ]
    },
    {
      "cell_type": "code",
      "execution_count": null,
      "metadata": {
        "id": "LdS9OZoKYt87"
      },
      "outputs": [],
      "source": [
        "df = pd.DataFrame({'duration': duration, 'en_text': text, 'ru_text': ru_text})\n",
        "df.to_csv('levin.csv', index=False)"
      ]
    },
    {
      "cell_type": "markdown",
      "metadata": {
        "id": "hjB8_8ctbejJ"
      },
      "source": [
        "## Машинное озвучивание текста и подготовка к монтажу"
      ]
    },
    {
      "cell_type": "markdown",
      "metadata": {
        "id": "eLDIZsm4acmk"
      },
      "source": [
        "Теперь, даже после перерыва, мы можем загрузить таблицу из файла:"
      ]
    },
    {
      "cell_type": "code",
      "execution_count": null,
      "metadata": {
        "colab": {
          "base_uri": "https://localhost:8080/",
          "height": 423
        },
        "id": "J5lYS1pcjzSV",
        "outputId": "6e02058f-118b-4c26-bccc-3e2c756ad344"
      },
      "outputs": [],
      "source": [
        "df = pd.read_csv('levin.csv')"
      ]
    },
    {
      "cell_type": "code",
      "execution_count": null,
      "metadata": {},
      "outputs": [],
      "source": [
        "for i in range(10):\n",
        "    print(i, df.ru_text[i])"
      ]
    },
    {
      "cell_type": "markdown",
      "metadata": {
        "id": "NCIMoXyXbejK"
      },
      "source": [
        "Я использую голос, который загрузил с сайта https://rhvoice.su/"
      ]
    },
    {
      "cell_type": "markdown",
      "metadata": {},
      "source": []
    },
    {
      "cell_type": "code",
      "execution_count": null,
      "metadata": {
        "colab": {
          "base_uri": "https://localhost:8080/",
          "height": 440
        },
        "id": "w7uhD_HzbejK",
        "outputId": "898a8bda-63b2-4e25-cd06-1cef0d8942bb"
      },
      "outputs": [],
      "source": [
        "tts = pyttsx3.init()\n",
        "\n",
        "voices = tts.getProperty('voices')\n",
        "  \n",
        "for voice in voices:\n",
        "    # to get the info. about various voices in our PC \n",
        "    print(\"Voice:\")\n",
        "    print(\"ID: %s\" %voice.id)\n",
        "    print(\"Name: %s\" %voice.name)\n",
        "    print(\"Age: %s\" %voice.age)\n",
        "    print(\"Gender: %s\" %voice.gender)\n",
        "    print(\"Languages Known: %s\" %voice.languages)"
      ]
    },
    {
      "cell_type": "code",
      "execution_count": null,
      "metadata": {
        "id": "yKSe4azUbejL"
      },
      "outputs": [],
      "source": [
        "# Задать голос по умолчанию\n",
        "\n",
        "tts.setProperty('voice', 'ru') \n",
        "tts.setProperty('rate', 300)\n",
        "tts.setProperty('volume', .8)\n",
        "\n",
        "# Устанавливаем нужный голос\n",
        "RU_VOICE_ID = \"HKEY_LOCAL_MACHINE\\SOFTWARE\\Microsoft\\Speech\\Voices\\TokenEnums\\RHVoice\\Aleksandr-hq\"\n",
        "# RU_VOICE_ID = 'HKEY_LOCAL_MACHINE\\SOFTWARE\\Microsoft\\Speech\\Voices\\Tokens\\TTS_MS_RU-RU_IRINA_11.0'\n",
        "\n",
        "\n",
        "tts.setProperty('voice', RU_VOICE_ID)"
      ]
    },
    {
      "cell_type": "markdown",
      "metadata": {
        "id": "bwK3PQFjbejM"
      },
      "source": [
        "Проверим настройки:"
      ]
    },
    {
      "cell_type": "code",
      "execution_count": null,
      "metadata": {
        "id": "3WrNNQ1JbejM"
      },
      "outputs": [],
      "source": [
        "speech = 'Привет! Давайте проверим скорость и качество озвучивания'\n",
        "tts.say(speech)\n",
        "tts.runAndWait()"
      ]
    },
    {
      "cell_type": "markdown",
      "metadata": {},
      "source": [
        "Конечно, качество не очень. Можно попробовать использовать Yandex.SpeachKit или использовать модели машинного обучения."
      ]
    },
    {
      "cell_type": "markdown",
      "metadata": {
        "id": "8RNnXis6bejN"
      },
      "source": [
        "Создадим набор звуковых файлов из текстовых фрагментов:"
      ]
    },
    {
      "cell_type": "code",
      "execution_count": null,
      "metadata": {
        "id": "rYRmWfdNbejN"
      },
      "outputs": [],
      "source": [
        "os.mkdir('files')\n",
        "for i in tqdm(range(len(df))):\n",
        "    speech = df.ru_text[i]\n",
        "    file_name = 'files/' + f'{i}.wav'\n",
        "    tts.save_to_file(speech, file_name)\n",
        "    tts.runAndWait()\n"
      ]
    },
    {
      "cell_type": "markdown",
      "metadata": {
        "id": "DpqUjdmQbejO"
      },
      "source": [
        "## Обработка звука"
      ]
    },
    {
      "cell_type": "markdown",
      "metadata": {
        "id": "8lO1hQwebejO"
      },
      "source": [
        "Сравним длину полученных фрагментов с длительностью оригинальных фрагментов:"
      ]
    },
    {
      "cell_type": "code",
      "execution_count": null,
      "metadata": {
        "id": "UuVcQjoybejO"
      },
      "outputs": [],
      "source": [
        "durs = []\n",
        "for i in range(len(df)):\n",
        "    file_name = 'files/' + f'{i}.wav'\n",
        "    fs, data = read(file_name)\n",
        "    durs.append(round(len(data) / fs, 3))   \n",
        "sum(durs)"
      ]
    },
    {
      "cell_type": "markdown",
      "metadata": {},
      "source": [
        "Общая длительность озвучивания 8106 секунд,  меньше общей длительности видеозаписи -- 10820 секунд."
      ]
    },
    {
      "cell_type": "markdown",
      "metadata": {
        "id": "Uk-CgS0YbejP"
      },
      "source": [
        "Найдём разность между оригинальной длительностью фрагмента и русской озвучкой:"
      ]
    },
    {
      "cell_type": "code",
      "execution_count": null,
      "metadata": {
        "id": "plq3c7PPbejQ"
      },
      "outputs": [],
      "source": [
        "df['ru_duration'] = durs\n",
        "df['delta_duration'] = df['duration'] - df['ru_duration']"
      ]
    },
    {
      "cell_type": "code",
      "execution_count": null,
      "metadata": {},
      "outputs": [],
      "source": [
        "df"
      ]
    },
    {
      "cell_type": "code",
      "execution_count": null,
      "metadata": {},
      "outputs": [],
      "source": [
        "df.delta_duration.describe()"
      ]
    },
    {
      "cell_type": "markdown",
      "metadata": {},
      "source": [
        "Оригинальный фрагмент может быть на 20 секунд длиннее, а может и на 3 секунды короче."
      ]
    },
    {
      "cell_type": "code",
      "execution_count": null,
      "metadata": {},
      "outputs": [],
      "source": [
        "df.delta_duration.sum() + df.ru_duration.sum()"
      ]
    },
    {
      "cell_type": "markdown",
      "metadata": {},
      "source": [
        "Общая продолжительность совпадает с оригинальной."
      ]
    },
    {
      "cell_type": "markdown",
      "metadata": {},
      "source": [
        "Если длительности озвученных фрагментов превышает оригинал, то заберём это время у следующих фрагментов, обладающих запасом по времени. Работать будем со списком. "
      ]
    },
    {
      "cell_type": "code",
      "execution_count": null,
      "metadata": {},
      "outputs": [],
      "source": [
        "deltas = list(df.delta_duration)"
      ]
    },
    {
      "cell_type": "code",
      "execution_count": null,
      "metadata": {},
      "outputs": [],
      "source": [
        "time = 0\n",
        "for i, delta in enumerate(deltas):\n",
        "    \n",
        "    if delta < 0:        \n",
        "        time += delta\n",
        "        deltas[i] = 0\n",
        "    elif time < 0:\n",
        "        if abs(time) <= delta:\n",
        "            deltas[i] += time\n",
        "            time = 0\n",
        "        else:\n",
        "            time += delta \n",
        "            deltas[i] = 0       "
      ]
    },
    {
      "cell_type": "code",
      "execution_count": null,
      "metadata": {},
      "outputs": [],
      "source": [
        "print(df.duration.sum())\n",
        "print(df.ru_duration.sum() + df.delta_duration.sum())"
      ]
    },
    {
      "cell_type": "markdown",
      "metadata": {},
      "source": [
        "Общее время не поменялось."
      ]
    },
    {
      "cell_type": "markdown",
      "metadata": {},
      "source": [
        "Добавим информацию в таблицу."
      ]
    },
    {
      "cell_type": "code",
      "execution_count": null,
      "metadata": {},
      "outputs": [],
      "source": [
        "df['delta_duration'] = deltas"
      ]
    },
    {
      "cell_type": "code",
      "execution_count": null,
      "metadata": {},
      "outputs": [],
      "source": [
        "df"
      ]
    },
    {
      "cell_type": "markdown",
      "metadata": {
        "id": "OUSgEvU3bejS"
      },
      "source": [
        "Добавим после каждого вновь озвученного звукового фрагмента, продолжительностью меньше оригинального, заполненной тишиной спейсер, необходимой продолжительности:"
      ]
    },
    {
      "cell_type": "code",
      "execution_count": null,
      "metadata": {},
      "outputs": [],
      "source": [
        "fs = 22050\n",
        "for i, delta in enumerate(deltas):\n",
        "    if delta > 0:\n",
        "        file_name = f'files/{i}-1.wav'\n",
        "        multiplicator = int(delta * fs)\n",
        "        spacer = np.array([0] * multiplicator)\n",
        "        write(file_name, fs, spacer)"
      ]
    },
    {
      "cell_type": "markdown",
      "metadata": {},
      "source": [
        "Можно попробовать \"сшить\" фрагменты русской озвучки со спейсерами с помощью утилиты [`ffmpeg`](https://ffmpeg.org/download.html). "
      ]
    },
    {
      "cell_type": "code",
      "execution_count": null,
      "metadata": {},
      "outputs": [],
      "source": [
        "with open(\"list.txt\", \"w\") as f:\n",
        "    for i in range(len(df)):\n",
        "        filename = f'files/{i}.wav'\n",
        "        line = f\"file '{filename}'\\n\"\n",
        "        if deltas[i] > 0:\n",
        "            line += f\"file 'files/{i}-1.wav'\\n\"\n",
        "        f.write(line)"
      ]
    },
    {
      "cell_type": "code",
      "execution_count": null,
      "metadata": {},
      "outputs": [],
      "source": [
        "os.system(\"ffmpeg -f concat -i out/list.txt -c copy out/output.wav\")"
      ]
    },
    {
      "cell_type": "markdown",
      "metadata": {},
      "source": [
        "По неизвестной мне причине, итоговый файл у меня получился размером больше, чем должен был. Я использовал для объединения утилиту плеера `AIMP`, указав папку `files` как источник и один файл с раширением `.mp3`. Последний вариант хорошо сработал и я получил на выходе звуковой файл продолжительностью 3 часа 20 секунд (10820 секунд)."
      ]
    },
    {
      "cell_type": "markdown",
      "metadata": {},
      "source": [
        "Далее я загружаю оригинальный файл с видео на ПК с помощью сервиса [SaveFrom](https://ru.savefrom.net/1-%D0%B1%D1%8B%D1%81%D1%82%D1%80%D1%8B%D0%B9-%D1%81%D0%BF%D0%BE%D1%81%D0%BE%D0%B1-%D1%81%D0%BA%D0%B0%D1%87%D0%B0%D1%82%D1%8C-%D1%81-youtube-130/?url=http%3A%2F%2Fyoutube.com%2Fwatch%3Fv%3Dp3lsYlod5OU&ab_channel=LexFridman&utm_source=youtube.com&utm_medium=short_domains&utm_campaign=ssyoutube.com&a_ts=1666604287.019) и в видеоредакторе приглушаю оригинальную видеодорожку и добавляю вновь созданную. Можно попробовать обойтись средствами утилиты `ffmpeg`.\n"
      ]
    },
    {
      "cell_type": "markdown",
      "metadata": {},
      "source": [
        "## Общий вывод\n",
        "\n",
        "Результат можно посмотреть [здесь](https://youtu.be/nJh880lnlRA)\n",
        "\n",
        "На мой взгляд результат получился неплохой. Однако качество перевода удовлетворительное, но далеко не идеальное, в этом направлении можно поработать. Также следует улучшить качество озвучивания. Можно попробовать реализовать на основе данного проекта суфлёр и озвучить текст перевода самостоятельно."
      ]
    }
  ],
  "metadata": {
    "colab": {
      "provenance": []
    },
    "kernelspec": {
      "display_name": "Python 3.10.6 64-bit",
      "language": "python",
      "name": "python3"
    },
    "language_info": {
      "codemirror_mode": {
        "name": "ipython",
        "version": 3
      },
      "file_extension": ".py",
      "mimetype": "text/x-python",
      "name": "python",
      "nbconvert_exporter": "python",
      "pygments_lexer": "ipython3",
      "version": "3.10.6"
    },
    "vscode": {
      "interpreter": {
        "hash": "7b0789bbad4bc3984dccb0d842ea20fef5a946604e94b84e3347159a7333cdae"
      }
    }
  },
  "nbformat": 4,
  "nbformat_minor": 0
}
