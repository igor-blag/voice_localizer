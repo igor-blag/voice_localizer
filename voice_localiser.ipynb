{
  "cells": [
    {
      "cell_type": "markdown",
      "metadata": {
        "id": "fhIqm9nobeij"
      },
      "source": [
        "# Машинный перевод и озвучивание видеозаписей на русском языке"
      ]
    },
    {
      "cell_type": "markdown",
      "metadata": {},
      "source": [
        "## О проекте"
      ]
    },
    {
      "cell_type": "markdown",
      "metadata": {},
      "source": [
        "[Есть](https://www.youtube.com/watch?v=p3lsYlod5OU&ab_channel=LexFridman) интересная беседа [Лекса Фридмана](https://en.wikipedia.org/wiki/Lex_Fridman) с [Михаилом Левиным](https://en.wikipedia.org/wiki/Michael_Levin_(biologist)). Несмотря, на русское происхождение обоих собеседников разговор они ведут на английском. Цель проекта перевести и озвучить беседу на русском языке.\n",
        "\n",
        "В проекте используется [готовая расшифровка с таймингом](https://karpathy.ai/lexicap/0325-large.html), созданная с помощью пакета [OpenAI Wisper](https://github.com/openai/whisper).\n",
        "Далее описывается парсинг расшифровки, перевод на русский язык, машинное озвучивание, выравнивание длины русских фрагментов с соответствующими оригинальными.\n",
        "\n",
        "Данный подход можно использовать для перевода и озвучивания любой видеозаписи."
      ]
    },
    {
      "cell_type": "markdown",
      "metadata": {
        "id": "QwHHuGEObeio"
      },
      "source": [
        "## Устанавливаем библиотеки"
      ]
    },
    {
      "cell_type": "code",
      "execution_count": 190,
      "metadata": {
        "colab": {
          "base_uri": "https://localhost:8080/"
        },
        "id": "tlYFsjZJjzR7",
        "outputId": "17e6e958-c734-4093-9d69-f327a92b7e6e"
      },
      "outputs": [
        {
          "name": "stdout",
          "output_type": "stream",
          "text": [
            "Requirement already satisfied: googletrans==3.1.0a0 in c:\\users\\user\\appdata\\local\\programs\\python\\python310\\lib\\site-packages (3.1.0a0)\n",
            "Requirement already satisfied: httpx==0.13.3 in c:\\users\\user\\appdata\\local\\programs\\python\\python310\\lib\\site-packages (from googletrans==3.1.0a0) (0.13.3)\n",
            "Requirement already satisfied: idna==2.* in c:\\users\\user\\appdata\\local\\programs\\python\\python310\\lib\\site-packages (from httpx==0.13.3->googletrans==3.1.0a0) (2.10)\n",
            "Requirement already satisfied: sniffio in c:\\users\\user\\appdata\\local\\programs\\python\\python310\\lib\\site-packages (from httpx==0.13.3->googletrans==3.1.0a0) (1.3.0)\n",
            "Requirement already satisfied: chardet==3.* in c:\\users\\user\\appdata\\local\\programs\\python\\python310\\lib\\site-packages (from httpx==0.13.3->googletrans==3.1.0a0) (3.0.4)\n",
            "Requirement already satisfied: httpcore==0.9.* in c:\\users\\user\\appdata\\local\\programs\\python\\python310\\lib\\site-packages (from httpx==0.13.3->googletrans==3.1.0a0) (0.9.1)\n",
            "Requirement already satisfied: hstspreload in c:\\users\\user\\appdata\\local\\programs\\python\\python310\\lib\\site-packages (from httpx==0.13.3->googletrans==3.1.0a0) (2022.10.1)\n",
            "Requirement already satisfied: certifi in c:\\users\\user\\appdata\\local\\programs\\python\\python310\\lib\\site-packages (from httpx==0.13.3->googletrans==3.1.0a0) (2022.6.15.1)\n",
            "Requirement already satisfied: rfc3986<2,>=1.3 in c:\\users\\user\\appdata\\local\\programs\\python\\python310\\lib\\site-packages (from httpx==0.13.3->googletrans==3.1.0a0) (1.5.0)\n",
            "Requirement already satisfied: h2==3.* in c:\\users\\user\\appdata\\local\\programs\\python\\python310\\lib\\site-packages (from httpcore==0.9.*->httpx==0.13.3->googletrans==3.1.0a0) (3.2.0)\n",
            "Requirement already satisfied: h11<0.10,>=0.8 in c:\\users\\user\\appdata\\local\\programs\\python\\python310\\lib\\site-packages (from httpcore==0.9.*->httpx==0.13.3->googletrans==3.1.0a0) (0.9.0)\n",
            "Requirement already satisfied: hpack<4,>=3.0 in c:\\users\\user\\appdata\\local\\programs\\python\\python310\\lib\\site-packages (from h2==3.*->httpcore==0.9.*->httpx==0.13.3->googletrans==3.1.0a0) (3.0.0)\n",
            "Requirement already satisfied: hyperframe<6,>=5.2.0 in c:\\users\\user\\appdata\\local\\programs\\python\\python310\\lib\\site-packages (from h2==3.*->httpcore==0.9.*->httpx==0.13.3->googletrans==3.1.0a0) (5.2.0)\n",
            "\n",
            "[notice] A new release of pip available: 22.1.2 -> 22.3\n",
            "[notice] To update, run: python.exe -m pip install --upgrade pip\n",
            "Note: you may need to restart the kernel to use updated packages.\n",
            "Requirement already satisfied: pyttsx3 in c:\\users\\user\\appdata\\local\\programs\\python\\python310\\lib\\site-packages (2.90)\n",
            "Requirement already satisfied: pywin32 in c:\\users\\user\\appdata\\local\\programs\\python\\python310\\lib\\site-packages (from pyttsx3) (304)\n",
            "Requirement already satisfied: comtypes in c:\\users\\user\\appdata\\local\\programs\\python\\python310\\lib\\site-packages (from pyttsx3) (1.1.14)\n",
            "Requirement already satisfied: pypiwin32 in c:\\users\\user\\appdata\\local\\programs\\python\\python310\\lib\\site-packages (from pyttsx3) (223)\n",
            "\n",
            "[notice] A new release of pip available: 22.1.2 -> 22.3\n",
            "[notice] To update, run: python.exe -m pip install --upgrade pip\n",
            "Note: you may need to restart the kernel to use updated packages.\n",
            "Requirement already satisfied: tqdm in c:\\users\\user\\appdata\\local\\programs\\python\\python310\\lib\\site-packages (4.64.1)\n",
            "Requirement already satisfied: colorama in c:\\users\\user\\appdata\\local\\programs\\python\\python310\\lib\\site-packages (from tqdm) (0.4.5)\n",
            "\n",
            "[notice] A new release of pip available: 22.1.2 -> 22.3\n",
            "[notice] To update, run: python.exe -m pip install --upgrade pip\n",
            "Note: you may need to restart the kernel to use updated packages.\n"
          ]
        }
      ],
      "source": [
        "# Библиотека для работы c Google Translate\n",
        "%pip install googletrans==3.1.0a0\n",
        "\n",
        "# Библиотека для генерации tts\n",
        "%pip install pyttsx3\n",
        "\n",
        "# Прогресс-бар\n",
        "%pip install tqdm"
      ]
    },
    {
      "cell_type": "markdown",
      "metadata": {
        "id": "fWDfesh2beiv"
      },
      "source": [
        "## Импортируем необходимые для работы модули"
      ]
    },
    {
      "cell_type": "code",
      "execution_count": 191,
      "metadata": {
        "id": "X_PNSa_KjzR_"
      },
      "outputs": [],
      "source": [
        "from tqdm import tqdm\n",
        "from bs4 import BeautifulSoup\n",
        "from datetime import datetime\n",
        "from scipy.io.wavfile import read, write\n",
        "from googletrans import Translator\n",
        "\n",
        "import pyttsx3\n",
        "import requests\n",
        "import numpy as np\n",
        "import pandas as pd\n"
      ]
    },
    {
      "cell_type": "markdown",
      "metadata": {
        "id": "V-9FvG0jbei1"
      },
      "source": [
        "## Парсинг расшифровки с таймингом"
      ]
    },
    {
      "cell_type": "markdown",
      "metadata": {},
      "source": [
        "Для парсинга используем библиотеку `BeatifulSoup`:"
      ]
    },
    {
      "cell_type": "code",
      "execution_count": 192,
      "metadata": {
        "id": "sM1zeSyUjzSD"
      },
      "outputs": [],
      "source": [
        "url = 'https://karpathy.ai/lexicap/0325-large.html'\n",
        "data = requests.get(url).text\n",
        "soup = BeautifulSoup(data)"
      ]
    },
    {
      "cell_type": "markdown",
      "metadata": {
        "id": "yTjxnSFebei3"
      },
      "source": [
        "## Обработка английского текста"
      ]
    },
    {
      "cell_type": "markdown",
      "metadata": {},
      "source": [
        "Выделим фрагменты текста и их тайминги в отдельные списки:"
      ]
    },
    {
      "cell_type": "code",
      "execution_count": 193,
      "metadata": {
        "id": "90FAjblN_YGR"
      },
      "outputs": [],
      "source": [
        "t_divs = soup.find_all('div', {'class': 't'})\n",
        "en_text = []\n",
        "for div in t_divs:\n",
        "    en_text.append(div.text)\n",
        "    # if len(div.text) < 66:\n",
        "    #     text += '\\n'\n",
        "\n",
        "s_divs = soup.find_all('div', {'class': 's'})\n",
        "timing = []\n",
        "for div in s_divs:\n",
        "    timing.append(div.a.text)"
      ]
    },
    {
      "cell_type": "markdown",
      "metadata": {},
      "source": [
        "Для удовлетворительного качества необходимо переводить текст как минимум целыми предложениями. В качестве знаков для разделения используем точку и вопросительный знак."
      ]
    },
    {
      "cell_type": "code",
      "execution_count": 194,
      "metadata": {
        "id": "YnDKkBZY_4SI"
      },
      "outputs": [],
      "source": [
        "def sign_finder(sign, str):\n",
        "    '''Finds the last position of the sing in the string'''\n",
        "    rev_pos = str[::-1].find(sign)\n",
        "    if rev_pos == -1:\n",
        "        return 0    \n",
        "    pos = len(str) - rev_pos\n",
        "    return pos\n",
        "def pos_finder(text):\n",
        "    signs = ['.', '?']\n",
        "    pos = []\n",
        "    for sign in signs:\n",
        "        pos.append(sign_finder(sign, text))\n",
        "    return max(pos)"
      ]
    },
    {
      "cell_type": "markdown",
      "metadata": {},
      "source": [
        "Перенесём незаконченные фрагменты предложений к фрагментам, содержащим знаки конца предложения, и внесём соответствующие поправки в тайминг."
      ]
    },
    {
      "cell_type": "code",
      "execution_count": 195,
      "metadata": {
        "id": "Zfrthd1t_dWf"
      },
      "outputs": [],
      "source": [
        "dense_text = []\n",
        "new_timing = []\n",
        "buffer = []\n",
        "time = []\n",
        "for i, text in enumerate(en_text):\n",
        "    pos = pos_finder(text)\n",
        "    if (pos == 0) & (i < len(en_text) - 1):\n",
        "        buffer.append(text)\n",
        "        time.append(timing[i])\n",
        "    elif len(buffer) > 0:\n",
        "        for i in range(len(buffer)):\n",
        "            text = buffer[-1] + text\n",
        "        dense_text.append(text)\n",
        "        new_timing.append(time[0])\n",
        "        buffer.clear()\n",
        "        time.clear()\n",
        "    else:\n",
        "        dense_text.append(text)\n",
        "        new_timing.append(timing[i])\n"
      ]
    },
    {
      "cell_type": "markdown",
      "metadata": {},
      "source": [
        "Из данных списков создадим таблицу `Pandas`: "
      ]
    },
    {
      "cell_type": "code",
      "execution_count": 196,
      "metadata": {
        "id": "0QLp2OY5jzSH"
      },
      "outputs": [
        {
          "data": {
            "text/html": [
              "<div>\n",
              "<style scoped>\n",
              "    .dataframe tbody tr th:only-of-type {\n",
              "        vertical-align: middle;\n",
              "    }\n",
              "\n",
              "    .dataframe tbody tr th {\n",
              "        vertical-align: top;\n",
              "    }\n",
              "\n",
              "    .dataframe thead th {\n",
              "        text-align: right;\n",
              "    }\n",
              "</style>\n",
              "<table border=\"1\" class=\"dataframe\">\n",
              "  <thead>\n",
              "    <tr style=\"text-align: right;\">\n",
              "      <th></th>\n",
              "      <th>timing</th>\n",
              "      <th>en_text</th>\n",
              "    </tr>\n",
              "  </thead>\n",
              "  <tbody>\n",
              "    <tr>\n",
              "      <th>0</th>\n",
              "      <td>00:00:00.000</td>\n",
              "      <td>turns out that if you train a planarian and t...</td>\n",
              "    </tr>\n",
              "    <tr>\n",
              "      <th>1</th>\n",
              "      <td>00:00:09.760</td>\n",
              "      <td>pretty much every deep question of life. For ...</td>\n",
              "    </tr>\n",
              "    <tr>\n",
              "      <th>2</th>\n",
              "      <td>00:00:14.800</td>\n",
              "      <td>have true symmetry, they have a true brain, t...</td>\n",
              "    </tr>\n",
              "    <tr>\n",
              "      <th>3</th>\n",
              "      <td>00:00:20.640</td>\n",
              "      <td>these little, they're about, you know, maybe ...</td>\n",
              "    </tr>\n",
              "    <tr>\n",
              "      <th>4</th>\n",
              "      <td>00:00:24.560</td>\n",
              "      <td>And they have a head and a tail. And the firs...</td>\n",
              "    </tr>\n",
              "    <tr>\n",
              "      <th>...</th>\n",
              "      <td>...</td>\n",
              "      <td>...</td>\n",
              "    </tr>\n",
              "    <tr>\n",
              "      <th>1456</th>\n",
              "      <td>02:59:18.200</td>\n",
              "      <td>Thank you for listening to this conversation ...</td>\n",
              "    </tr>\n",
              "    <tr>\n",
              "      <th>1457</th>\n",
              "      <td>02:59:22.200</td>\n",
              "      <td>please check out our sponsors in the descript...</td>\n",
              "    </tr>\n",
              "    <tr>\n",
              "      <th>1458</th>\n",
              "      <td>02:59:26.760</td>\n",
              "      <td>Charles Darwin in The Origin of Species. From...</td>\n",
              "    </tr>\n",
              "    <tr>\n",
              "      <th>1459</th>\n",
              "      <td>02:59:35.760</td>\n",
              "      <td>the most exalted object which we're capable o...</td>\n",
              "    </tr>\n",
              "    <tr>\n",
              "      <th>1460</th>\n",
              "      <td>02:59:47.600</td>\n",
              "      <td>simpler beginning, endless forms, most beauti...</td>\n",
              "    </tr>\n",
              "  </tbody>\n",
              "</table>\n",
              "<p>1461 rows × 2 columns</p>\n",
              "</div>"
            ],
            "text/plain": [
              "            timing                                            en_text\n",
              "0     00:00:00.000   turns out that if you train a planarian and t...\n",
              "1     00:00:09.760   pretty much every deep question of life. For ...\n",
              "2     00:00:14.800   have true symmetry, they have a true brain, t...\n",
              "3     00:00:20.640   these little, they're about, you know, maybe ...\n",
              "4     00:00:24.560   And they have a head and a tail. And the firs...\n",
              "...            ...                                                ...\n",
              "1456  02:59:18.200   Thank you for listening to this conversation ...\n",
              "1457  02:59:22.200   please check out our sponsors in the descript...\n",
              "1458  02:59:26.760   Charles Darwin in The Origin of Species. From...\n",
              "1459  02:59:35.760   the most exalted object which we're capable o...\n",
              "1460  02:59:47.600   simpler beginning, endless forms, most beauti...\n",
              "\n",
              "[1461 rows x 2 columns]"
            ]
          },
          "execution_count": 196,
          "metadata": {},
          "output_type": "execute_result"
        }
      ],
      "source": [
        "dict = {'timing': new_timing, 'en_text': dense_text}\n",
        "df = pd.DataFrame(dict)\n",
        "df"
      ]
    },
    {
      "cell_type": "markdown",
      "metadata": {},
      "source": [
        "Тайминги переведем в формат `DateFrame` и вычислим продожительность оригинальных фрагментов, сохранив их в отдельный столбец:"
      ]
    },
    {
      "cell_type": "code",
      "execution_count": 197,
      "metadata": {
        "id": "Mt0udXiGbei5"
      },
      "outputs": [
        {
          "data": {
            "text/html": [
              "<div>\n",
              "<style scoped>\n",
              "    .dataframe tbody tr th:only-of-type {\n",
              "        vertical-align: middle;\n",
              "    }\n",
              "\n",
              "    .dataframe tbody tr th {\n",
              "        vertical-align: top;\n",
              "    }\n",
              "\n",
              "    .dataframe thead th {\n",
              "        text-align: right;\n",
              "    }\n",
              "</style>\n",
              "<table border=\"1\" class=\"dataframe\">\n",
              "  <thead>\n",
              "    <tr style=\"text-align: right;\">\n",
              "      <th></th>\n",
              "      <th>timing</th>\n",
              "      <th>en_text</th>\n",
              "      <th>duration</th>\n",
              "    </tr>\n",
              "  </thead>\n",
              "  <tbody>\n",
              "    <tr>\n",
              "      <th>0</th>\n",
              "      <td>00:00:00.000</td>\n",
              "      <td>turns out that if you train a planarian and t...</td>\n",
              "      <td>9.76</td>\n",
              "    </tr>\n",
              "    <tr>\n",
              "      <th>1</th>\n",
              "      <td>00:00:09.760</td>\n",
              "      <td>pretty much every deep question of life. For ...</td>\n",
              "      <td>5.04</td>\n",
              "    </tr>\n",
              "    <tr>\n",
              "      <th>2</th>\n",
              "      <td>00:00:14.800</td>\n",
              "      <td>have true symmetry, they have a true brain, t...</td>\n",
              "      <td>5.84</td>\n",
              "    </tr>\n",
              "    <tr>\n",
              "      <th>3</th>\n",
              "      <td>00:00:20.640</td>\n",
              "      <td>these little, they're about, you know, maybe ...</td>\n",
              "      <td>3.92</td>\n",
              "    </tr>\n",
              "    <tr>\n",
              "      <th>4</th>\n",
              "      <td>00:00:24.560</td>\n",
              "      <td>And they have a head and a tail. And the firs...</td>\n",
              "      <td>6.08</td>\n",
              "    </tr>\n",
              "    <tr>\n",
              "      <th>...</th>\n",
              "      <td>...</td>\n",
              "      <td>...</td>\n",
              "      <td>...</td>\n",
              "    </tr>\n",
              "    <tr>\n",
              "      <th>1456</th>\n",
              "      <td>02:59:18.200</td>\n",
              "      <td>Thank you for listening to this conversation ...</td>\n",
              "      <td>4.00</td>\n",
              "    </tr>\n",
              "    <tr>\n",
              "      <th>1457</th>\n",
              "      <td>02:59:22.200</td>\n",
              "      <td>please check out our sponsors in the descript...</td>\n",
              "      <td>4.56</td>\n",
              "    </tr>\n",
              "    <tr>\n",
              "      <th>1458</th>\n",
              "      <td>02:59:26.760</td>\n",
              "      <td>Charles Darwin in The Origin of Species. From...</td>\n",
              "      <td>9.00</td>\n",
              "    </tr>\n",
              "    <tr>\n",
              "      <th>1459</th>\n",
              "      <td>02:59:35.760</td>\n",
              "      <td>the most exalted object which we're capable o...</td>\n",
              "      <td>11.84</td>\n",
              "    </tr>\n",
              "    <tr>\n",
              "      <th>1460</th>\n",
              "      <td>02:59:47.600</td>\n",
              "      <td>simpler beginning, endless forms, most beauti...</td>\n",
              "      <td>32.40</td>\n",
              "    </tr>\n",
              "  </tbody>\n",
              "</table>\n",
              "<p>1461 rows × 3 columns</p>\n",
              "</div>"
            ],
            "text/plain": [
              "            timing                                            en_text  \\\n",
              "0     00:00:00.000   turns out that if you train a planarian and t...   \n",
              "1     00:00:09.760   pretty much every deep question of life. For ...   \n",
              "2     00:00:14.800   have true symmetry, they have a true brain, t...   \n",
              "3     00:00:20.640   these little, they're about, you know, maybe ...   \n",
              "4     00:00:24.560   And they have a head and a tail. And the firs...   \n",
              "...            ...                                                ...   \n",
              "1456  02:59:18.200   Thank you for listening to this conversation ...   \n",
              "1457  02:59:22.200   please check out our sponsors in the descript...   \n",
              "1458  02:59:26.760   Charles Darwin in The Origin of Species. From...   \n",
              "1459  02:59:35.760   the most exalted object which we're capable o...   \n",
              "1460  02:59:47.600   simpler beginning, endless forms, most beauti...   \n",
              "\n",
              "      duration  \n",
              "0         9.76  \n",
              "1         5.04  \n",
              "2         5.84  \n",
              "3         3.92  \n",
              "4         6.08  \n",
              "...        ...  \n",
              "1456      4.00  \n",
              "1457      4.56  \n",
              "1458      9.00  \n",
              "1459     11.84  \n",
              "1460     32.40  \n",
              "\n",
              "[1461 rows x 3 columns]"
            ]
          },
          "execution_count": 197,
          "metadata": {},
          "output_type": "execute_result"
        }
      ],
      "source": [
        "format = '%H:%M:%S.%f'\n",
        "def duration_calculator(row):\n",
        "    '''Calculates duration speech fragment in a row'''\n",
        "    idx = row.name\n",
        "    time1 = row['timing'] + '000'\n",
        "    if idx == len(df) - 1:\n",
        "        return datetime.strptime(\"03:00:20.000000\", format) - datetime.strptime(time1, format)    \n",
        "    time2 = df.loc[idx + 1, 'timing'] + '000'\n",
        "    return datetime.strptime(time2, format) - datetime.strptime(time1, format)\n",
        "\n",
        "df['duration'] = df.apply(duration_calculator, axis=1)\n",
        "df['duration'] = df['duration'].apply(lambda x: x.total_seconds())\n",
        "df"
      ]
    },
    {
      "cell_type": "markdown",
      "metadata": {},
      "source": [
        "Посмотрим на длину фрагментов:"
      ]
    },
    {
      "cell_type": "code",
      "execution_count": 198,
      "metadata": {
        "colab": {
          "base_uri": "https://localhost:8080/"
        },
        "id": "PIwNRDx4FagG",
        "outputId": "e31c6a8a-68b5-41b4-c915-52601cd82cdb"
      },
      "outputs": [
        {
          "data": {
            "text/plain": [
              "count    1461.000000\n",
              "mean      126.861739\n",
              "std        68.620897\n",
              "min         5.000000\n",
              "25%        91.000000\n",
              "50%        96.000000\n",
              "75%       178.000000\n",
              "max       574.000000\n",
              "Name: en_text, dtype: float64"
            ]
          },
          "execution_count": 198,
          "metadata": {},
          "output_type": "execute_result"
        }
      ],
      "source": [
        "df.en_text.apply(len).describe()"
      ]
    },
    {
      "cell_type": "markdown",
      "metadata": {},
      "source": [
        "Самый короткий 5 символов, а длинный -- 574. \n",
        "\n",
        "Для перевода фрагментов текста в отдельные предложения (группы предложений) и определения соответствующей им временной продолжительности мне будет удобнее работать со списками, а не таблицей."
      ]
    },
    {
      "cell_type": "code",
      "execution_count": 199,
      "metadata": {
        "id": "7FkIVmdc-W5c"
      },
      "outputs": [],
      "source": [
        "text = list(df.en_text)\n",
        "duration = list(df.duration)"
      ]
    },
    {
      "cell_type": "markdown",
      "metadata": {},
      "source": [
        "Будем ориентироваться на знаки окончания предложения в конце фрагмента:"
      ]
    },
    {
      "cell_type": "code",
      "execution_count": 200,
      "metadata": {
        "id": "NxT0KDyK_twL"
      },
      "outputs": [],
      "source": [
        "def min_pos_finder(text):\n",
        "    '''Returns the first position of the signs in the text'''\n",
        "    signs = ['.', '?']\n",
        "    pos = []\n",
        "    for sign in signs:\n",
        "        pos.append(text.find(sign))\n",
        "    if min(pos) == -1:\n",
        "        return max(pos) + 1\n",
        "    else:\n",
        "        return min(pos) + 1"
      ]
    },
    {
      "cell_type": "markdown",
      "metadata": {},
      "source": [
        "Собственно переносим, что нужно в тексте и вносим, соответствующие изменения в их длительность:"
      ]
    },
    {
      "cell_type": "code",
      "execution_count": 201,
      "metadata": {
        "id": "XmUI4oSb-i5m"
      },
      "outputs": [],
      "source": [
        "for i, row in enumerate (text):\n",
        "    if i != 0:\n",
        "        pos = min_pos_finder(row)\n",
        "        head = row[:pos]\n",
        "        tail = row[pos:]\n",
        "        duration[i - 1] = duration[i - 1] + duration[i] * len(head) / len(row)\n",
        "        duration[i] = duration[i] * len(tail) / len(row)\n",
        "        text[i - 1] = text[i - 1] + head\n",
        "        text[i] = tail         \n"
      ]
    },
    {
      "cell_type": "code",
      "execution_count": 202,
      "metadata": {
        "colab": {
          "base_uri": "https://localhost:8080/"
        },
        "id": "N3FdfaQTG_d5",
        "outputId": "0164cbff-4cec-4b48-e1b4-1e128ff47881"
      },
      "outputs": [
        {
          "name": "stdout",
          "output_type": "stream",
          "text": [
            "Количество знаков в исходном тексте:  185345\n",
            "Количество знаков итоговом тексте:  185345\n",
            "Исходная общая продолжительность:  10820.000000000025\n",
            "Общая продолжительность после обработки:  10820.0\n"
          ]
        }
      ],
      "source": [
        "size = 0\n",
        "for row in text:\n",
        "    size += len(row)\n",
        "\n",
        "print('Количество знаков в исходном тексте: ', df.en_text.apply(len).sum())\n",
        "print('Количество знаков итоговом тексте: ', size)\n",
        "print('Исходная общая продолжительность: ', sum(duration))\n",
        "print('Общая продолжительность после обработки: ', df.duration.sum())\n"
      ]
    },
    {
      "cell_type": "markdown",
      "metadata": {},
      "source": [
        "Всё на месте. Возваращаем данные обратно в таблицу."
      ]
    },
    {
      "cell_type": "code",
      "execution_count": 203,
      "metadata": {},
      "outputs": [
        {
          "data": {
            "text/html": [
              "<div>\n",
              "<style scoped>\n",
              "    .dataframe tbody tr th:only-of-type {\n",
              "        vertical-align: middle;\n",
              "    }\n",
              "\n",
              "    .dataframe tbody tr th {\n",
              "        vertical-align: top;\n",
              "    }\n",
              "\n",
              "    .dataframe thead th {\n",
              "        text-align: right;\n",
              "    }\n",
              "</style>\n",
              "<table border=\"1\" class=\"dataframe\">\n",
              "  <thead>\n",
              "    <tr style=\"text-align: right;\">\n",
              "      <th></th>\n",
              "      <th>timing</th>\n",
              "      <th>en_text</th>\n",
              "      <th>duration</th>\n",
              "    </tr>\n",
              "  </thead>\n",
              "  <tbody>\n",
              "    <tr>\n",
              "      <th>0</th>\n",
              "      <td>00:00:00.000</td>\n",
              "      <td>turns out that if you train a planarian and t...</td>\n",
              "      <td>11.868571</td>\n",
              "    </tr>\n",
              "    <tr>\n",
              "      <th>1</th>\n",
              "      <td>00:00:09.760</td>\n",
              "      <td>For one thing, they're similar to our ancesto...</td>\n",
              "      <td>6.991322</td>\n",
              "    </tr>\n",
              "    <tr>\n",
              "      <th>2</th>\n",
              "      <td>00:00:14.800</td>\n",
              "      <td>They have lots of different internal organs, ...</td>\n",
              "      <td>5.700107</td>\n",
              "    </tr>\n",
              "    <tr>\n",
              "      <th>3</th>\n",
              "      <td>00:00:20.640</td>\n",
              "      <td>And they have a head and a tail.</td>\n",
              "      <td>2.134468</td>\n",
              "    </tr>\n",
              "    <tr>\n",
              "      <th>4</th>\n",
              "      <td>00:00:24.560</td>\n",
              "      <td>And the first thing is planaria are immortal....</td>\n",
              "      <td>4.133287</td>\n",
              "    </tr>\n",
              "    <tr>\n",
              "      <th>...</th>\n",
              "      <td>...</td>\n",
              "      <td>...</td>\n",
              "      <td>...</td>\n",
              "    </tr>\n",
              "    <tr>\n",
              "      <th>1456</th>\n",
              "      <td>02:59:18.200</td>\n",
              "      <td>To support this podcast, please check out our...</td>\n",
              "      <td>3.486111</td>\n",
              "    </tr>\n",
              "    <tr>\n",
              "      <th>1457</th>\n",
              "      <td>02:59:22.200</td>\n",
              "      <td>And now let me leave you with some words from...</td>\n",
              "      <td>6.378182</td>\n",
              "    </tr>\n",
              "    <tr>\n",
              "      <th>1458</th>\n",
              "      <td>02:59:26.760</td>\n",
              "      <td>From the war of nature, from famine and death...</td>\n",
              "      <td>12.921874</td>\n",
              "    </tr>\n",
              "    <tr>\n",
              "      <th>1459</th>\n",
              "      <td>02:59:35.760</td>\n",
              "      <td>There's grandeur in this view of life, with i...</td>\n",
              "      <td>30.850525</td>\n",
              "    </tr>\n",
              "    <tr>\n",
              "      <th>1460</th>\n",
              "      <td>02:59:47.600</td>\n",
              "      <td>Thank you for listening, and hope to see you ...</td>\n",
              "      <td>5.274419</td>\n",
              "    </tr>\n",
              "  </tbody>\n",
              "</table>\n",
              "<p>1461 rows × 3 columns</p>\n",
              "</div>"
            ],
            "text/plain": [
              "            timing                                            en_text  \\\n",
              "0     00:00:00.000   turns out that if you train a planarian and t...   \n",
              "1     00:00:09.760   For one thing, they're similar to our ancesto...   \n",
              "2     00:00:14.800   They have lots of different internal organs, ...   \n",
              "3     00:00:20.640                   And they have a head and a tail.   \n",
              "4     00:00:24.560   And the first thing is planaria are immortal....   \n",
              "...            ...                                                ...   \n",
              "1456  02:59:18.200   To support this podcast, please check out our...   \n",
              "1457  02:59:22.200   And now let me leave you with some words from...   \n",
              "1458  02:59:26.760   From the war of nature, from famine and death...   \n",
              "1459  02:59:35.760   There's grandeur in this view of life, with i...   \n",
              "1460  02:59:47.600   Thank you for listening, and hope to see you ...   \n",
              "\n",
              "       duration  \n",
              "0     11.868571  \n",
              "1      6.991322  \n",
              "2      5.700107  \n",
              "3      2.134468  \n",
              "4      4.133287  \n",
              "...         ...  \n",
              "1456   3.486111  \n",
              "1457   6.378182  \n",
              "1458  12.921874  \n",
              "1459  30.850525  \n",
              "1460   5.274419  \n",
              "\n",
              "[1461 rows x 3 columns]"
            ]
          },
          "execution_count": 203,
          "metadata": {},
          "output_type": "execute_result"
        }
      ],
      "source": [
        "df['en_text'] = text\n",
        "df['duration'] = duration\n",
        "df"
      ]
    },
    {
      "cell_type": "markdown",
      "metadata": {
        "id": "6LoLeH3XbejD"
      },
      "source": [
        "## Перевод текста на русский"
      ]
    },
    {
      "cell_type": "markdown",
      "metadata": {},
      "source": [
        "Переводим текст на русский:"
      ]
    },
    {
      "cell_type": "code",
      "execution_count": 204,
      "metadata": {
        "colab": {
          "base_uri": "https://localhost:8080/"
        },
        "id": "R5WeJDnNN7FI",
        "outputId": "1363f4a5-8e3a-478f-9098-d8bc70f62c66"
      },
      "outputs": [
        {
          "name": "stderr",
          "output_type": "stream",
          "text": [
            "100%|██████████| 1461/1461 [04:55<00:00,  4.95it/s]\n"
          ]
        }
      ],
      "source": [
        "translator = Translator()\n",
        "ru_text = []\n",
        "for row in tqdm(text):\n",
        "    ru_text.append(translator.translate(row, src='en', dest='ru').text)"
      ]
    },
    {
      "cell_type": "code",
      "execution_count": 208,
      "metadata": {},
      "outputs": [
        {
          "data": {
            "text/html": [
              "<div>\n",
              "<style scoped>\n",
              "    .dataframe tbody tr th:only-of-type {\n",
              "        vertical-align: middle;\n",
              "    }\n",
              "\n",
              "    .dataframe tbody tr th {\n",
              "        vertical-align: top;\n",
              "    }\n",
              "\n",
              "    .dataframe thead th {\n",
              "        text-align: right;\n",
              "    }\n",
              "</style>\n",
              "<table border=\"1\" class=\"dataframe\">\n",
              "  <thead>\n",
              "    <tr style=\"text-align: right;\">\n",
              "      <th></th>\n",
              "      <th>timing</th>\n",
              "      <th>en_text</th>\n",
              "      <th>duration</th>\n",
              "    </tr>\n",
              "  </thead>\n",
              "  <tbody>\n",
              "    <tr>\n",
              "      <th>0</th>\n",
              "      <td>00:00:00.000</td>\n",
              "      <td>turns out that if you train a planarian and t...</td>\n",
              "      <td>11.868571</td>\n",
              "    </tr>\n",
              "    <tr>\n",
              "      <th>1</th>\n",
              "      <td>00:00:09.760</td>\n",
              "      <td>For one thing, they're similar to our ancesto...</td>\n",
              "      <td>6.991322</td>\n",
              "    </tr>\n",
              "    <tr>\n",
              "      <th>2</th>\n",
              "      <td>00:00:14.800</td>\n",
              "      <td>They have lots of different internal organs, ...</td>\n",
              "      <td>5.700107</td>\n",
              "    </tr>\n",
              "    <tr>\n",
              "      <th>3</th>\n",
              "      <td>00:00:20.640</td>\n",
              "      <td>And they have a head and a tail.</td>\n",
              "      <td>2.134468</td>\n",
              "    </tr>\n",
              "    <tr>\n",
              "      <th>4</th>\n",
              "      <td>00:00:24.560</td>\n",
              "      <td>And the first thing is planaria are immortal....</td>\n",
              "      <td>4.133287</td>\n",
              "    </tr>\n",
              "    <tr>\n",
              "      <th>...</th>\n",
              "      <td>...</td>\n",
              "      <td>...</td>\n",
              "      <td>...</td>\n",
              "    </tr>\n",
              "    <tr>\n",
              "      <th>1456</th>\n",
              "      <td>02:59:18.200</td>\n",
              "      <td>To support this podcast, please check out our...</td>\n",
              "      <td>3.486111</td>\n",
              "    </tr>\n",
              "    <tr>\n",
              "      <th>1457</th>\n",
              "      <td>02:59:22.200</td>\n",
              "      <td>And now let me leave you with some words from...</td>\n",
              "      <td>6.378182</td>\n",
              "    </tr>\n",
              "    <tr>\n",
              "      <th>1458</th>\n",
              "      <td>02:59:26.760</td>\n",
              "      <td>From the war of nature, from famine and death...</td>\n",
              "      <td>12.921874</td>\n",
              "    </tr>\n",
              "    <tr>\n",
              "      <th>1459</th>\n",
              "      <td>02:59:35.760</td>\n",
              "      <td>There's grandeur in this view of life, with i...</td>\n",
              "      <td>30.850525</td>\n",
              "    </tr>\n",
              "    <tr>\n",
              "      <th>1460</th>\n",
              "      <td>02:59:47.600</td>\n",
              "      <td>Thank you for listening, and hope to see you ...</td>\n",
              "      <td>5.274419</td>\n",
              "    </tr>\n",
              "  </tbody>\n",
              "</table>\n",
              "<p>1461 rows × 3 columns</p>\n",
              "</div>"
            ],
            "text/plain": [
              "            timing                                            en_text  \\\n",
              "0     00:00:00.000   turns out that if you train a planarian and t...   \n",
              "1     00:00:09.760   For one thing, they're similar to our ancesto...   \n",
              "2     00:00:14.800   They have lots of different internal organs, ...   \n",
              "3     00:00:20.640                   And they have a head and a tail.   \n",
              "4     00:00:24.560   And the first thing is planaria are immortal....   \n",
              "...            ...                                                ...   \n",
              "1456  02:59:18.200   To support this podcast, please check out our...   \n",
              "1457  02:59:22.200   And now let me leave you with some words from...   \n",
              "1458  02:59:26.760   From the war of nature, from famine and death...   \n",
              "1459  02:59:35.760   There's grandeur in this view of life, with i...   \n",
              "1460  02:59:47.600   Thank you for listening, and hope to see you ...   \n",
              "\n",
              "       duration  \n",
              "0     11.868571  \n",
              "1      6.991322  \n",
              "2      5.700107  \n",
              "3      2.134468  \n",
              "4      4.133287  \n",
              "...         ...  \n",
              "1456   3.486111  \n",
              "1457   6.378182  \n",
              "1458  12.921874  \n",
              "1459  30.850525  \n",
              "1460   5.274419  \n",
              "\n",
              "[1461 rows x 3 columns]"
            ]
          },
          "execution_count": 208,
          "metadata": {},
          "output_type": "execute_result"
        }
      ],
      "source": [
        "df"
      ]
    },
    {
      "cell_type": "markdown",
      "metadata": {},
      "source": [
        "Короткими фрагментами переводить данный текст всё же долго. Кроме того, вероятно переводчик может учитывать контекст, что положительным образом должно сказываться на переводе. Однако наш текстовый блок слишком большой для одномоментного перевода, переводчик не справиться. Желательно подобрать максимальный размер группы текстов опытным путём, у меня это 90. Меньше - дольше, а больше - переводчик не справляется. Однако необходимо вставить подходящий маркер для обратного разъединения строк с чем мне не удалось справиться. Но код, на всякий случай, оставляю."
      ]
    },
    {
      "cell_type": "code",
      "execution_count": 205,
      "metadata": {},
      "outputs": [],
      "source": [
        "# print(len(df))\n",
        "# translator = Translator()\n",
        "# ru_text = []\n",
        "\n",
        "# batch_size = 80\n",
        "# start = 0\n",
        "# for i in tqdm(range(round(len(df) / batch_size))):    \n",
        "#     batch = df.en_text[start:start+batch_size]\n",
        "    \n",
        "#     en_batch = '*'.join(batch)\n",
        "#     ru_batch = translator.translate(en_batch, src='en', dest='ru').text\n",
        "#     # print(1, ru_batch[:100])\n",
        "#     ru_text.extend(ru_batch.split('*'))\n",
        "#     start += batch_size\n",
        "# len(ru_text)"
      ]
    },
    {
      "cell_type": "code",
      "execution_count": 206,
      "metadata": {},
      "outputs": [
        {
          "data": {
            "text/plain": [
              "1461"
            ]
          },
          "execution_count": 206,
          "metadata": {},
          "output_type": "execute_result"
        }
      ],
      "source": [
        "for i, row in enumerate(ru_text):\n",
        "    if row == '':\n",
        "        ru_text.pop(i)\n",
        "len(ru_text)"
      ]
    },
    {
      "cell_type": "markdown",
      "metadata": {},
      "source": [
        "Посмотрим что получилось:"
      ]
    },
    {
      "cell_type": "code",
      "execution_count": 55,
      "metadata": {
        "colab": {
          "base_uri": "https://localhost:8080/"
        },
        "id": "FjaNC5ewPcqX",
        "outputId": "c63edcf5-1ea0-4d80-e50f-e07a0b0ad952"
      },
      "outputs": [
        {
          "name": "stdout",
          "output_type": "stream",
          "text": [
            "Оказывается, если вы дрессируете планарий, а затем отрубаете им головы, хвост регенерирует совершенно новый мозг, который все еще помнит исходную информацию. Я думаю, что планарии содержат ответы практически на все важные вопросы жизни.\n",
            "Во-первых, они похожи на наших предков. Так что у них настоящая симметрия, у них настоящий мозг, они не похожи на дождевых червей, они, знаете ли, гораздо более продвинутая форма жизни.\n",
            "У них много различных внутренних органов, но они такие маленькие, они размером примерно два сантиметра в сантиметре или два в размере.\n",
            "И у них есть голова и хвост.\n",
            "И во-первых, планарии бессмертны. Так они не стареют.\n",
            "Нет такой вещи, как старая планария. Итак, это прямо говорит вам, что эти теории термодинамических ограничений продолжительности жизни неверны.\n",
            "Это не так хорошо, со временем все деградирует.\n",
            "Нет, планарии могут продолжаться, наверное, вы знаете, как долго они существуют около 400 миллионов лет, верно?\n",
            "Итак, это настоящие, так что планарии в нашей лаборатории на самом деле физически неразрывны с планариями, которые были здесь 400 миллионов лет назад.\n",
            "Ниже приводится беседа с Майклом Левиным, одним из самых увлекательных и блестящих биологов, с которыми я когда-либо разговаривал.\n"
          ]
        }
      ],
      "source": [
        "for row in ru_text[:10]:\n",
        "    print(row)"
      ]
    },
    {
      "cell_type": "markdown",
      "metadata": {},
      "source": [
        "Боже мой! \"размером примерно два сантиметра в сантиметре или два в размере\".\n",
        "\n",
        "С некоторыми фрагментами текста неплохо справляется переводчик `DeepL`, но, к сожалению, перевод текстов более 5 000  знаков требует подписки, а для россиян, в данный момент, она не предусмотрена.\n",
        "\n",
        "Изменения в текст перевода можно внести, например, так:"
      ]
    },
    {
      "cell_type": "code",
      "execution_count": 57,
      "metadata": {
        "id": "xFkhkpVFX5Ma"
      },
      "outputs": [],
      "source": [
        "ru_text[0] = 'Оказывается, если обучить планарий, а затем отрезать им голову, хвост регенерирует совершенно новый мозг, который все еще помнит первоначальную информацию. Я думаю, что в планариях кроется ответ практически на все глубокие вопросы жизни.'\n",
        "ru_text[2] = 'У них много различных внутренних органов, но они такие маленькие, они размером примерно два сантиметра на один.'"
      ]
    },
    {
      "cell_type": "markdown",
      "metadata": {},
      "source": [
        "Создадим заново датафрейм с текстами на двух языках, их продолжительностью, и сохраним его, при необходимости, в `csv`-файл."
      ]
    },
    {
      "cell_type": "code",
      "execution_count": 59,
      "metadata": {
        "id": "LdS9OZoKYt87"
      },
      "outputs": [],
      "source": [
        "df = pd.DataFrame({'duration': duration, 'en_text': text, 'ru_text': ru_text})\n",
        "df.to_csv('levin.csv', index=False)"
      ]
    },
    {
      "cell_type": "markdown",
      "metadata": {
        "id": "hjB8_8ctbejJ"
      },
      "source": [
        "## Машинное озвучивание текста и подготовка к монтажу"
      ]
    },
    {
      "cell_type": "markdown",
      "metadata": {
        "id": "eLDIZsm4acmk"
      },
      "source": [
        "Можно загрузить таблицу из файла:"
      ]
    },
    {
      "cell_type": "code",
      "execution_count": 21,
      "metadata": {
        "colab": {
          "base_uri": "https://localhost:8080/",
          "height": 423
        },
        "id": "J5lYS1pcjzSV",
        "outputId": "6e02058f-118b-4c26-bccc-3e2c756ad344"
      },
      "outputs": [
        {
          "data": {
            "text/html": [
              "<div>\n",
              "<style scoped>\n",
              "    .dataframe tbody tr th:only-of-type {\n",
              "        vertical-align: middle;\n",
              "    }\n",
              "\n",
              "    .dataframe tbody tr th {\n",
              "        vertical-align: top;\n",
              "    }\n",
              "\n",
              "    .dataframe thead th {\n",
              "        text-align: right;\n",
              "    }\n",
              "</style>\n",
              "<table border=\"1\" class=\"dataframe\">\n",
              "  <thead>\n",
              "    <tr style=\"text-align: right;\">\n",
              "      <th></th>\n",
              "      <th>duration</th>\n",
              "      <th>en_text</th>\n",
              "      <th>ru_text</th>\n",
              "    </tr>\n",
              "  </thead>\n",
              "  <tbody>\n",
              "    <tr>\n",
              "      <th>0</th>\n",
              "      <td>11.868571</td>\n",
              "      <td>turns out that if you train a planarian and t...</td>\n",
              "      <td>Оказывается, если обучить планарий, а затем от...</td>\n",
              "    </tr>\n",
              "    <tr>\n",
              "      <th>1</th>\n",
              "      <td>6.991322</td>\n",
              "      <td>For one thing, they're similar to our ancesto...</td>\n",
              "      <td>Во-первых, они похожи на наших предков. Так чт...</td>\n",
              "    </tr>\n",
              "    <tr>\n",
              "      <th>2</th>\n",
              "      <td>5.700107</td>\n",
              "      <td>They have lots of different internal organs, ...</td>\n",
              "      <td>У них много различных внутренних органов, но о...</td>\n",
              "    </tr>\n",
              "    <tr>\n",
              "      <th>3</th>\n",
              "      <td>2.134468</td>\n",
              "      <td>And they have a head and a tail.</td>\n",
              "      <td>И у них есть голова и хвост.</td>\n",
              "    </tr>\n",
              "    <tr>\n",
              "      <th>4</th>\n",
              "      <td>4.133287</td>\n",
              "      <td>And the first thing is planaria are immortal....</td>\n",
              "      <td>И во-первых, планарии бессмертны. Так они не с...</td>\n",
              "    </tr>\n",
              "    <tr>\n",
              "      <th>...</th>\n",
              "      <td>...</td>\n",
              "      <td>...</td>\n",
              "      <td>...</td>\n",
              "    </tr>\n",
              "    <tr>\n",
              "      <th>1456</th>\n",
              "      <td>3.486111</td>\n",
              "      <td>To support this podcast, please check out our...</td>\n",
              "      <td>Чтобы поддержать этот подкаст, пожалуйста, озн...</td>\n",
              "    </tr>\n",
              "    <tr>\n",
              "      <th>1457</th>\n",
              "      <td>6.378182</td>\n",
              "      <td>And now let me leave you with some words from...</td>\n",
              "      <td>А теперь позвольте мне оставить вас нескольким...</td>\n",
              "    </tr>\n",
              "    <tr>\n",
              "      <th>1458</th>\n",
              "      <td>12.921874</td>\n",
              "      <td>From the war of nature, from famine and death...</td>\n",
              "      <td>Из войны природы, из голода и смерти непосредс...</td>\n",
              "    </tr>\n",
              "    <tr>\n",
              "      <th>1459</th>\n",
              "      <td>30.850525</td>\n",
              "      <td>There's grandeur in this view of life, with i...</td>\n",
              "      <td>Есть величие в этом взгляде на жизнь, с ее нес...</td>\n",
              "    </tr>\n",
              "    <tr>\n",
              "      <th>1460</th>\n",
              "      <td>5.274419</td>\n",
              "      <td>Thank you for listening, and hope to see you ...</td>\n",
              "      <td>Спасибо за внимание и надеемся увидеть вас в с...</td>\n",
              "    </tr>\n",
              "  </tbody>\n",
              "</table>\n",
              "<p>1461 rows × 3 columns</p>\n",
              "</div>"
            ],
            "text/plain": [
              "       duration                                            en_text  \\\n",
              "0     11.868571   turns out that if you train a planarian and t...   \n",
              "1      6.991322   For one thing, they're similar to our ancesto...   \n",
              "2      5.700107   They have lots of different internal organs, ...   \n",
              "3      2.134468                   And they have a head and a tail.   \n",
              "4      4.133287   And the first thing is planaria are immortal....   \n",
              "...         ...                                                ...   \n",
              "1456   3.486111   To support this podcast, please check out our...   \n",
              "1457   6.378182   And now let me leave you with some words from...   \n",
              "1458  12.921874   From the war of nature, from famine and death...   \n",
              "1459  30.850525   There's grandeur in this view of life, with i...   \n",
              "1460   5.274419   Thank you for listening, and hope to see you ...   \n",
              "\n",
              "                                                ru_text  \n",
              "0     Оказывается, если обучить планарий, а затем от...  \n",
              "1     Во-первых, они похожи на наших предков. Так чт...  \n",
              "2     У них много различных внутренних органов, но о...  \n",
              "3                          И у них есть голова и хвост.  \n",
              "4     И во-первых, планарии бессмертны. Так они не с...  \n",
              "...                                                 ...  \n",
              "1456  Чтобы поддержать этот подкаст, пожалуйста, озн...  \n",
              "1457  А теперь позвольте мне оставить вас нескольким...  \n",
              "1458  Из войны природы, из голода и смерти непосредс...  \n",
              "1459  Есть величие в этом взгляде на жизнь, с ее нес...  \n",
              "1460  Спасибо за внимание и надеемся увидеть вас в с...  \n",
              "\n",
              "[1461 rows x 3 columns]"
            ]
          },
          "execution_count": 21,
          "metadata": {},
          "output_type": "execute_result"
        }
      ],
      "source": [
        "df = pd.read_csv('levin.csv')"
      ]
    },
    {
      "cell_type": "code",
      "execution_count": 22,
      "metadata": {},
      "outputs": [
        {
          "name": "stdout",
          "output_type": "stream",
          "text": [
            "0 Оказывается, если обучить планарий, а затем отрезать им голову, хвост регенерирует совершенно новый мозг, который все еще помнит первоначальную информацию. Я думаю, что в планариях кроется ответ практически на все глубокие вопросы жизни.\n",
            "1 Во-первых, они похожи на наших предков. Так что у них настоящая симметрия, у них настоящий мозг, они не похожи на дождевых червей, они, знаете ли, гораздо более продвинутая форма жизни.\n",
            "2 У них много различных внутренних органов, но они такие маленькие, они примерно, два сантиметра на один размером.\n",
            "3 И у них есть голова и хвост.\n",
            "4 И во-первых, планарии бессмертны. Так они не стареют.\n",
            "5 Не существует такого явления, как старая планария. Это говорит о том, что все эти теории термодинамических ограничений продолжительности жизни неверны.\n",
            "6 Это не так хорошо, со временем все деградирует.\n",
            "7 Нет, планарии могут продолжаться, наверное, вы знаете, как долго они существуют около 400 миллионов лет, верно?\n",
            "8 Итак, это настоящие, так что планарии в нашей лаборатории на самом деле физически неразрывны с планариями, которые были здесь 400 миллионов лет назад.\n",
            "9 Ниже приводится беседа с Майклом Левиным, одним из самых увлекательных и блестящих биологов, с которыми я когда-либо разговаривал.\n"
          ]
        }
      ],
      "source": [
        "for i in range(10):\n",
        "    print(i, df.ru_text[i])"
      ]
    },
    {
      "cell_type": "markdown",
      "metadata": {
        "id": "NCIMoXyXbejK"
      },
      "source": [
        "Я использую голос, который загрузил с сайта https://rhvoice.su/"
      ]
    },
    {
      "cell_type": "markdown",
      "metadata": {},
      "source": []
    },
    {
      "cell_type": "code",
      "execution_count": 23,
      "metadata": {
        "colab": {
          "base_uri": "https://localhost:8080/",
          "height": 440
        },
        "id": "w7uhD_HzbejK",
        "outputId": "898a8bda-63b2-4e25-cd06-1cef0d8942bb"
      },
      "outputs": [
        {
          "name": "stdout",
          "output_type": "stream",
          "text": [
            "Voice:\n",
            "ID: HKEY_LOCAL_MACHINE\\SOFTWARE\\Microsoft\\Speech\\Voices\\Tokens\\TTS_MS_RU-RU_IRINA_11.0\n",
            "Name: Microsoft Irina Desktop - Russian\n",
            "Age: None\n",
            "Gender: None\n",
            "Languages Known: []\n",
            "Voice:\n",
            "ID: HKEY_LOCAL_MACHINE\\SOFTWARE\\Microsoft\\Speech\\Voices\\Tokens\\TTS_MS_EN-US_ZIRA_11.0\n",
            "Name: Microsoft Zira Desktop - English (United States)\n",
            "Age: None\n",
            "Gender: None\n",
            "Languages Known: []\n",
            "Voice:\n",
            "ID: HKEY_LOCAL_MACHINE\\SOFTWARE\\Microsoft\\Speech\\Voices\\TokenEnums\\RHVoice\\Aleksandr-hq\n",
            "Name: Aleksandr-hq\n",
            "Age: None\n",
            "Gender: None\n",
            "Languages Known: []\n"
          ]
        }
      ],
      "source": [
        "tts = pyttsx3.init()\n",
        "\n",
        "voices = tts.getProperty('voices')\n",
        "  \n",
        "for voice in voices:\n",
        "    # to get the info. about various voices in our PC \n",
        "    print(\"Voice:\")\n",
        "    print(\"ID: %s\" %voice.id)\n",
        "    print(\"Name: %s\" %voice.name)\n",
        "    print(\"Age: %s\" %voice.age)\n",
        "    print(\"Gender: %s\" %voice.gender)\n",
        "    print(\"Languages Known: %s\" %voice.languages)"
      ]
    },
    {
      "cell_type": "code",
      "execution_count": 24,
      "metadata": {
        "id": "yKSe4azUbejL"
      },
      "outputs": [],
      "source": [
        "# Задать голос по умолчанию\n",
        "\n",
        "tts.setProperty('voice', 'ru') \n",
        "tts.setProperty('rate', 300)\n",
        "tts.setProperty('volume', .8)\n",
        "\n",
        "# Попробовать установить предпочтительный голос\n",
        "RU_VOICE_ID = \"HKEY_LOCAL_MACHINE\\SOFTWARE\\Microsoft\\Speech\\Voices\\TokenEnums\\RHVoice\\Aleksandr-hq\"\n",
        "# RU_VOICE_ID = 'HKEY_LOCAL_MACHINE\\SOFTWARE\\Microsoft\\Speech\\Voices\\Tokens\\TTS_MS_RU-RU_IRINA_11.0'\n",
        "\n",
        "\n",
        "tts.setProperty('voice', RU_VOICE_ID)"
      ]
    },
    {
      "cell_type": "markdown",
      "metadata": {
        "id": "bwK3PQFjbejM"
      },
      "source": [
        "Проверим настройки:"
      ]
    },
    {
      "cell_type": "code",
      "execution_count": 129,
      "metadata": {
        "id": "3WrNNQ1JbejM"
      },
      "outputs": [],
      "source": [
        "speech = 'Привет! Давайте проверим скорость и качество озвучивания'\n",
        "tts.say(speech)\n",
        "tts.runAndWait()"
      ]
    },
    {
      "cell_type": "markdown",
      "metadata": {
        "id": "8RNnXis6bejN"
      },
      "source": [
        "Создадим набор звуковых файлов из текстовых фрагментов:"
      ]
    },
    {
      "cell_type": "code",
      "execution_count": 25,
      "metadata": {
        "id": "rYRmWfdNbejN"
      },
      "outputs": [],
      "source": [
        "for i in range(len(df)):\n",
        "    speech = df.ru_text[i]\n",
        "    file_name = 'files/' + f'{i}.wav'\n",
        "    tts.save_to_file(speech, file_name)\n",
        "    tts.runAndWait()\n"
      ]
    },
    {
      "cell_type": "markdown",
      "metadata": {
        "id": "DpqUjdmQbejO"
      },
      "source": [
        "## Обработка звука"
      ]
    },
    {
      "cell_type": "markdown",
      "metadata": {
        "id": "8lO1hQwebejO"
      },
      "source": [
        "Сравним длину полученных фрагментов с длительностью оригинальных фрагментов:"
      ]
    },
    {
      "cell_type": "code",
      "execution_count": 26,
      "metadata": {
        "id": "UuVcQjoybejO"
      },
      "outputs": [],
      "source": [
        "durs = []\n",
        "for i in range(len(df)):\n",
        "    file_name = 'files/' + f'{i}.wav'\n",
        "    fs, data = read(file_name)\n",
        "    durs.append(round(len(data) / fs, 3))   \n"
      ]
    },
    {
      "cell_type": "code",
      "execution_count": 27,
      "metadata": {
        "id": "kBX8UJRSbejP"
      },
      "outputs": [
        {
          "data": {
            "text/plain": [
              "8105.3939999999975"
            ]
          },
          "execution_count": 27,
          "metadata": {},
          "output_type": "execute_result"
        }
      ],
      "source": [
        "sum(durs)"
      ]
    },
    {
      "cell_type": "code",
      "execution_count": 28,
      "metadata": {
        "id": "Uk-CgS0YbejP"
      },
      "outputs": [],
      "source": [
        "df['ru_duration'] = durs"
      ]
    },
    {
      "cell_type": "code",
      "execution_count": 29,
      "metadata": {
        "id": "plq3c7PPbejQ"
      },
      "outputs": [],
      "source": [
        "df['delta_duration'] = df['duration'] - df['ru_duration']"
      ]
    },
    {
      "cell_type": "code",
      "execution_count": 30,
      "metadata": {},
      "outputs": [
        {
          "data": {
            "text/html": [
              "<div>\n",
              "<style scoped>\n",
              "    .dataframe tbody tr th:only-of-type {\n",
              "        vertical-align: middle;\n",
              "    }\n",
              "\n",
              "    .dataframe tbody tr th {\n",
              "        vertical-align: top;\n",
              "    }\n",
              "\n",
              "    .dataframe thead th {\n",
              "        text-align: right;\n",
              "    }\n",
              "</style>\n",
              "<table border=\"1\" class=\"dataframe\">\n",
              "  <thead>\n",
              "    <tr style=\"text-align: right;\">\n",
              "      <th></th>\n",
              "      <th>duration</th>\n",
              "      <th>en_text</th>\n",
              "      <th>ru_text</th>\n",
              "      <th>ru_duration</th>\n",
              "      <th>delta_duration</th>\n",
              "    </tr>\n",
              "  </thead>\n",
              "  <tbody>\n",
              "    <tr>\n",
              "      <th>0</th>\n",
              "      <td>11.868571</td>\n",
              "      <td>turns out that if you train a planarian and t...</td>\n",
              "      <td>Оказывается, если обучить планарий, а затем от...</td>\n",
              "      <td>10.129</td>\n",
              "      <td>1.739571</td>\n",
              "    </tr>\n",
              "    <tr>\n",
              "      <th>1</th>\n",
              "      <td>6.991322</td>\n",
              "      <td>For one thing, they're similar to our ancesto...</td>\n",
              "      <td>Во-первых, они похожи на наших предков. Так чт...</td>\n",
              "      <td>7.991</td>\n",
              "      <td>-0.999678</td>\n",
              "    </tr>\n",
              "    <tr>\n",
              "      <th>2</th>\n",
              "      <td>5.700107</td>\n",
              "      <td>They have lots of different internal organs, ...</td>\n",
              "      <td>У них много различных внутренних органов, но о...</td>\n",
              "      <td>4.537</td>\n",
              "      <td>1.163107</td>\n",
              "    </tr>\n",
              "    <tr>\n",
              "      <th>3</th>\n",
              "      <td>2.134468</td>\n",
              "      <td>And they have a head and a tail.</td>\n",
              "      <td>И у них есть голова и хвост.</td>\n",
              "      <td>1.107</td>\n",
              "      <td>1.027468</td>\n",
              "    </tr>\n",
              "    <tr>\n",
              "      <th>4</th>\n",
              "      <td>4.133287</td>\n",
              "      <td>And the first thing is planaria are immortal....</td>\n",
              "      <td>И во-первых, планарии бессмертны. Так они не с...</td>\n",
              "      <td>2.179</td>\n",
              "      <td>1.954287</td>\n",
              "    </tr>\n",
              "    <tr>\n",
              "      <th>...</th>\n",
              "      <td>...</td>\n",
              "      <td>...</td>\n",
              "      <td>...</td>\n",
              "      <td>...</td>\n",
              "      <td>...</td>\n",
              "    </tr>\n",
              "    <tr>\n",
              "      <th>1456</th>\n",
              "      <td>3.486111</td>\n",
              "      <td>To support this podcast, please check out our...</td>\n",
              "      <td>Чтобы поддержать этот подкаст, пожалуйста, озн...</td>\n",
              "      <td>3.651</td>\n",
              "      <td>-0.164889</td>\n",
              "    </tr>\n",
              "    <tr>\n",
              "      <th>1457</th>\n",
              "      <td>6.378182</td>\n",
              "      <td>And now let me leave you with some words from...</td>\n",
              "      <td>А теперь позвольте мне оставить вас нескольким...</td>\n",
              "      <td>3.938</td>\n",
              "      <td>2.440182</td>\n",
              "    </tr>\n",
              "    <tr>\n",
              "      <th>1458</th>\n",
              "      <td>12.921874</td>\n",
              "      <td>From the war of nature, from famine and death...</td>\n",
              "      <td>Из войны природы, из голода и смерти непосредс...</td>\n",
              "      <td>6.402</td>\n",
              "      <td>6.519874</td>\n",
              "    </tr>\n",
              "    <tr>\n",
              "      <th>1459</th>\n",
              "      <td>30.850525</td>\n",
              "      <td>There's grandeur in this view of life, with i...</td>\n",
              "      <td>Есть величие в этом взгляде на жизнь, с ее нес...</td>\n",
              "      <td>15.357</td>\n",
              "      <td>15.493525</td>\n",
              "    </tr>\n",
              "    <tr>\n",
              "      <th>1460</th>\n",
              "      <td>5.274419</td>\n",
              "      <td>Thank you for listening, and hope to see you ...</td>\n",
              "      <td>Спасибо за внимание и надеемся увидеть вас в с...</td>\n",
              "      <td>2.443</td>\n",
              "      <td>2.831419</td>\n",
              "    </tr>\n",
              "  </tbody>\n",
              "</table>\n",
              "<p>1461 rows × 5 columns</p>\n",
              "</div>"
            ],
            "text/plain": [
              "       duration                                            en_text  \\\n",
              "0     11.868571   turns out that if you train a planarian and t...   \n",
              "1      6.991322   For one thing, they're similar to our ancesto...   \n",
              "2      5.700107   They have lots of different internal organs, ...   \n",
              "3      2.134468                   And they have a head and a tail.   \n",
              "4      4.133287   And the first thing is planaria are immortal....   \n",
              "...         ...                                                ...   \n",
              "1456   3.486111   To support this podcast, please check out our...   \n",
              "1457   6.378182   And now let me leave you with some words from...   \n",
              "1458  12.921874   From the war of nature, from famine and death...   \n",
              "1459  30.850525   There's grandeur in this view of life, with i...   \n",
              "1460   5.274419   Thank you for listening, and hope to see you ...   \n",
              "\n",
              "                                                ru_text  ru_duration  \\\n",
              "0     Оказывается, если обучить планарий, а затем от...       10.129   \n",
              "1     Во-первых, они похожи на наших предков. Так чт...        7.991   \n",
              "2     У них много различных внутренних органов, но о...        4.537   \n",
              "3                          И у них есть голова и хвост.        1.107   \n",
              "4     И во-первых, планарии бессмертны. Так они не с...        2.179   \n",
              "...                                                 ...          ...   \n",
              "1456  Чтобы поддержать этот подкаст, пожалуйста, озн...        3.651   \n",
              "1457  А теперь позвольте мне оставить вас нескольким...        3.938   \n",
              "1458  Из войны природы, из голода и смерти непосредс...        6.402   \n",
              "1459  Есть величие в этом взгляде на жизнь, с ее нес...       15.357   \n",
              "1460  Спасибо за внимание и надеемся увидеть вас в с...        2.443   \n",
              "\n",
              "      delta_duration  \n",
              "0           1.739571  \n",
              "1          -0.999678  \n",
              "2           1.163107  \n",
              "3           1.027468  \n",
              "4           1.954287  \n",
              "...              ...  \n",
              "1456       -0.164889  \n",
              "1457        2.440182  \n",
              "1458        6.519874  \n",
              "1459       15.493525  \n",
              "1460        2.831419  \n",
              "\n",
              "[1461 rows x 5 columns]"
            ]
          },
          "execution_count": 30,
          "metadata": {},
          "output_type": "execute_result"
        }
      ],
      "source": [
        "df"
      ]
    },
    {
      "cell_type": "code",
      "execution_count": 31,
      "metadata": {},
      "outputs": [
        {
          "data": {
            "text/plain": [
              "count    1461.000000\n",
              "mean        1.858047\n",
              "std         2.189053\n",
              "min        -3.084271\n",
              "25%         0.381708\n",
              "50%         1.352974\n",
              "75%         2.837824\n",
              "max        19.159033\n",
              "Name: delta_duration, dtype: float64"
            ]
          },
          "execution_count": 31,
          "metadata": {},
          "output_type": "execute_result"
        }
      ],
      "source": [
        "df.delta_duration.describe()"
      ]
    },
    {
      "cell_type": "code",
      "execution_count": 32,
      "metadata": {},
      "outputs": [
        {
          "data": {
            "text/plain": [
              "2714.6059999999998"
            ]
          },
          "execution_count": 32,
          "metadata": {},
          "output_type": "execute_result"
        }
      ],
      "source": [
        "df.delta_duration.sum()"
      ]
    },
    {
      "cell_type": "code",
      "execution_count": 33,
      "metadata": {},
      "outputs": [
        {
          "data": {
            "text/plain": [
              "10820.0"
            ]
          },
          "execution_count": 33,
          "metadata": {},
          "output_type": "execute_result"
        }
      ],
      "source": [
        "df.delta_duration.sum() + df.ru_duration.sum()"
      ]
    },
    {
      "cell_type": "code",
      "execution_count": 34,
      "metadata": {},
      "outputs": [],
      "source": [
        "deltas = list(df.delta_duration)"
      ]
    },
    {
      "cell_type": "code",
      "execution_count": 35,
      "metadata": {},
      "outputs": [],
      "source": [
        "time = 0\n",
        "for i, delta in enumerate(deltas):\n",
        "    \n",
        "    if delta < 0:        \n",
        "        time += delta\n",
        "        deltas[i] = 0\n",
        "    elif time < 0:\n",
        "        if abs(time) <= delta:\n",
        "            deltas[i] += time\n",
        "            time = 0\n",
        "        else:\n",
        "            time += delta \n",
        "            deltas[i] = 0       "
      ]
    },
    {
      "cell_type": "code",
      "execution_count": 36,
      "metadata": {},
      "outputs": [
        {
          "data": {
            "text/plain": [
              "2714.606000000003"
            ]
          },
          "execution_count": 36,
          "metadata": {},
          "output_type": "execute_result"
        }
      ],
      "source": [
        "sum(deltas)"
      ]
    },
    {
      "cell_type": "code",
      "execution_count": 37,
      "metadata": {},
      "outputs": [],
      "source": [
        "df['delta_duration'] = deltas"
      ]
    },
    {
      "cell_type": "code",
      "execution_count": 38,
      "metadata": {},
      "outputs": [
        {
          "data": {
            "text/html": [
              "<div>\n",
              "<style scoped>\n",
              "    .dataframe tbody tr th:only-of-type {\n",
              "        vertical-align: middle;\n",
              "    }\n",
              "\n",
              "    .dataframe tbody tr th {\n",
              "        vertical-align: top;\n",
              "    }\n",
              "\n",
              "    .dataframe thead th {\n",
              "        text-align: right;\n",
              "    }\n",
              "</style>\n",
              "<table border=\"1\" class=\"dataframe\">\n",
              "  <thead>\n",
              "    <tr style=\"text-align: right;\">\n",
              "      <th></th>\n",
              "      <th>duration</th>\n",
              "      <th>en_text</th>\n",
              "      <th>ru_text</th>\n",
              "      <th>ru_duration</th>\n",
              "      <th>delta_duration</th>\n",
              "    </tr>\n",
              "  </thead>\n",
              "  <tbody>\n",
              "    <tr>\n",
              "      <th>0</th>\n",
              "      <td>11.868571</td>\n",
              "      <td>turns out that if you train a planarian and t...</td>\n",
              "      <td>Оказывается, если обучить планарий, а затем от...</td>\n",
              "      <td>10.129</td>\n",
              "      <td>1.739571</td>\n",
              "    </tr>\n",
              "    <tr>\n",
              "      <th>1</th>\n",
              "      <td>6.991322</td>\n",
              "      <td>For one thing, they're similar to our ancesto...</td>\n",
              "      <td>Во-первых, они похожи на наших предков. Так чт...</td>\n",
              "      <td>7.991</td>\n",
              "      <td>0.000000</td>\n",
              "    </tr>\n",
              "    <tr>\n",
              "      <th>2</th>\n",
              "      <td>5.700107</td>\n",
              "      <td>They have lots of different internal organs, ...</td>\n",
              "      <td>У них много различных внутренних органов, но о...</td>\n",
              "      <td>4.537</td>\n",
              "      <td>0.163429</td>\n",
              "    </tr>\n",
              "    <tr>\n",
              "      <th>3</th>\n",
              "      <td>2.134468</td>\n",
              "      <td>And they have a head and a tail.</td>\n",
              "      <td>И у них есть голова и хвост.</td>\n",
              "      <td>1.107</td>\n",
              "      <td>1.027468</td>\n",
              "    </tr>\n",
              "    <tr>\n",
              "      <th>4</th>\n",
              "      <td>4.133287</td>\n",
              "      <td>And the first thing is planaria are immortal....</td>\n",
              "      <td>И во-первых, планарии бессмертны. Так они не с...</td>\n",
              "      <td>2.179</td>\n",
              "      <td>1.954287</td>\n",
              "    </tr>\n",
              "    <tr>\n",
              "      <th>...</th>\n",
              "      <td>...</td>\n",
              "      <td>...</td>\n",
              "      <td>...</td>\n",
              "      <td>...</td>\n",
              "      <td>...</td>\n",
              "    </tr>\n",
              "    <tr>\n",
              "      <th>1456</th>\n",
              "      <td>3.486111</td>\n",
              "      <td>To support this podcast, please check out our...</td>\n",
              "      <td>Чтобы поддержать этот подкаст, пожалуйста, озн...</td>\n",
              "      <td>3.651</td>\n",
              "      <td>0.000000</td>\n",
              "    </tr>\n",
              "    <tr>\n",
              "      <th>1457</th>\n",
              "      <td>6.378182</td>\n",
              "      <td>And now let me leave you with some words from...</td>\n",
              "      <td>А теперь позвольте мне оставить вас нескольким...</td>\n",
              "      <td>3.938</td>\n",
              "      <td>2.275293</td>\n",
              "    </tr>\n",
              "    <tr>\n",
              "      <th>1458</th>\n",
              "      <td>12.921874</td>\n",
              "      <td>From the war of nature, from famine and death...</td>\n",
              "      <td>Из войны природы, из голода и смерти непосредс...</td>\n",
              "      <td>6.402</td>\n",
              "      <td>6.519874</td>\n",
              "    </tr>\n",
              "    <tr>\n",
              "      <th>1459</th>\n",
              "      <td>30.850525</td>\n",
              "      <td>There's grandeur in this view of life, with i...</td>\n",
              "      <td>Есть величие в этом взгляде на жизнь, с ее нес...</td>\n",
              "      <td>15.357</td>\n",
              "      <td>15.493525</td>\n",
              "    </tr>\n",
              "    <tr>\n",
              "      <th>1460</th>\n",
              "      <td>5.274419</td>\n",
              "      <td>Thank you for listening, and hope to see you ...</td>\n",
              "      <td>Спасибо за внимание и надеемся увидеть вас в с...</td>\n",
              "      <td>2.443</td>\n",
              "      <td>2.831419</td>\n",
              "    </tr>\n",
              "  </tbody>\n",
              "</table>\n",
              "<p>1461 rows × 5 columns</p>\n",
              "</div>"
            ],
            "text/plain": [
              "       duration                                            en_text  \\\n",
              "0     11.868571   turns out that if you train a planarian and t...   \n",
              "1      6.991322   For one thing, they're similar to our ancesto...   \n",
              "2      5.700107   They have lots of different internal organs, ...   \n",
              "3      2.134468                   And they have a head and a tail.   \n",
              "4      4.133287   And the first thing is planaria are immortal....   \n",
              "...         ...                                                ...   \n",
              "1456   3.486111   To support this podcast, please check out our...   \n",
              "1457   6.378182   And now let me leave you with some words from...   \n",
              "1458  12.921874   From the war of nature, from famine and death...   \n",
              "1459  30.850525   There's grandeur in this view of life, with i...   \n",
              "1460   5.274419   Thank you for listening, and hope to see you ...   \n",
              "\n",
              "                                                ru_text  ru_duration  \\\n",
              "0     Оказывается, если обучить планарий, а затем от...       10.129   \n",
              "1     Во-первых, они похожи на наших предков. Так чт...        7.991   \n",
              "2     У них много различных внутренних органов, но о...        4.537   \n",
              "3                          И у них есть голова и хвост.        1.107   \n",
              "4     И во-первых, планарии бессмертны. Так они не с...        2.179   \n",
              "...                                                 ...          ...   \n",
              "1456  Чтобы поддержать этот подкаст, пожалуйста, озн...        3.651   \n",
              "1457  А теперь позвольте мне оставить вас нескольким...        3.938   \n",
              "1458  Из войны природы, из голода и смерти непосредс...        6.402   \n",
              "1459  Есть величие в этом взгляде на жизнь, с ее нес...       15.357   \n",
              "1460  Спасибо за внимание и надеемся увидеть вас в с...        2.443   \n",
              "\n",
              "      delta_duration  \n",
              "0           1.739571  \n",
              "1           0.000000  \n",
              "2           0.163429  \n",
              "3           1.027468  \n",
              "4           1.954287  \n",
              "...              ...  \n",
              "1456        0.000000  \n",
              "1457        2.275293  \n",
              "1458        6.519874  \n",
              "1459       15.493525  \n",
              "1460        2.831419  \n",
              "\n",
              "[1461 rows x 5 columns]"
            ]
          },
          "execution_count": 38,
          "metadata": {},
          "output_type": "execute_result"
        }
      ],
      "source": [
        "df"
      ]
    },
    {
      "cell_type": "code",
      "execution_count": 39,
      "metadata": {},
      "outputs": [
        {
          "name": "stdout",
          "output_type": "stream",
          "text": [
            "10820.0\n",
            "10820.0\n"
          ]
        }
      ],
      "source": [
        "print(df.duration.sum())\n",
        "print(df.ru_duration.sum() + df.delta_duration.sum())"
      ]
    },
    {
      "cell_type": "markdown",
      "metadata": {
        "id": "OUSgEvU3bejS"
      },
      "source": [
        "Добавим после каждого вновь озвученного звукового фрагмента, продолжительностью меньше оригинального, заполненной тишиной спейсер, необходимой продолжительности:"
      ]
    },
    {
      "cell_type": "code",
      "execution_count": 42,
      "metadata": {},
      "outputs": [],
      "source": [
        "fs = 22050\n",
        "for i, delta in enumerate(deltas):\n",
        "    if delta > 0:\n",
        "        file_name = f'files/{i}-1.wav'\n",
        "        multiplicator = int(delta * fs)\n",
        "        spacer = np.array([0] * multiplicator)\n",
        "        write(file_name, fs, spacer)"
      ]
    },
    {
      "cell_type": "code",
      "execution_count": 41,
      "metadata": {},
      "outputs": [],
      "source": [
        "with open(\"list.txt\", \"w\") as f:\n",
        "    for i in range(len(df)):\n",
        "        filename = f'files/{i}.wav'\n",
        "        line = f\"file '{filename}'\\n\"\n",
        "        if deltas[i] > 0:\n",
        "            line += f\"file 'spaces/{i}.wav'\\n\"\n",
        "        f.write(line)"
      ]
    },
    {
      "cell_type": "code",
      "execution_count": 118,
      "metadata": {},
      "outputs": [
        {
          "data": {
            "text/plain": [
              "1"
            ]
          },
          "execution_count": 118,
          "metadata": {},
          "output_type": "execute_result"
        }
      ],
      "source": [
        "os.system(\"ffmpeg -f concat -i out/list.txt -c copy out/output.wav\")"
      ]
    },
    {
      "cell_type": "code",
      "execution_count": 111,
      "metadata": {},
      "outputs": [],
      "source": [
        "\n",
        "spacer = np.array([0] * 10 * 22050)\n",
        "write('spaces/test.wav', fs, spacer)"
      ]
    },
    {
      "cell_type": "code",
      "execution_count": 114,
      "metadata": {},
      "outputs": [
        {
          "data": {
            "text/plain": [
              "1"
            ]
          },
          "execution_count": 114,
          "metadata": {},
          "output_type": "execute_result"
        }
      ],
      "source": [
        "\n",
        "req = 'ffmpeg -i files/test.wav concat -i spaces/test.wav out/test.wav'\n",
        "os.system(req)\n"
      ]
    },
    {
      "cell_type": "code",
      "execution_count": null,
      "metadata": {
        "id": "2Ztow0GIbejT"
      },
      "outputs": [],
      "source": [
        "grouped_df.apply(lambda row: add_spacer(row), axis=1)"
      ]
    },
    {
      "cell_type": "code",
      "execution_count": null,
      "metadata": {
        "id": "Xc7RMHQTbejT"
      },
      "outputs": [],
      "source": [
        "grouped_df"
      ]
    },
    {
      "cell_type": "code",
      "execution_count": null,
      "metadata": {
        "id": "4mbMTo91bejU"
      },
      "outputs": [],
      "source": [
        "total, fs = sf.read('files/0.wav')\n",
        "\n",
        "for i in range(30):\n",
        "    file_name = 'files/' + f'{i}.wav'\n",
        "    print(file_name)\n",
        "    data, fs = sf.read(file_name)\n",
        "    total = np.append(total, data)\n",
        "sf.write('files/total_1.ogg', total, fs)"
      ]
    },
    {
      "cell_type": "code",
      "execution_count": null,
      "metadata": {
        "id": "kReKgjNMbejU"
      },
      "outputs": [],
      "source": [
        "fs, data = read('files/total_1.wav')\n",
        "Audio(data, rate=fs)"
      ]
    },
    {
      "cell_type": "code",
      "execution_count": null,
      "metadata": {
        "id": "ev500QNebejU"
      },
      "outputs": [],
      "source": [
        "write('files/total_10.wav', fs, data)"
      ]
    },
    {
      "cell_type": "code",
      "execution_count": null,
      "metadata": {
        "id": "07j6cEgkbejV"
      },
      "outputs": [],
      "source": [
        "fs, data_0 = read('files/0.wav')\n",
        "fs, data_1 = read('files/1.wav')\n"
      ]
    },
    {
      "cell_type": "code",
      "execution_count": null,
      "metadata": {
        "id": "aZKfhTyebejV"
      },
      "outputs": [],
      "source": [
        "total = np.append(data_0, data_1)"
      ]
    },
    {
      "cell_type": "code",
      "execution_count": null,
      "metadata": {
        "id": "GdnGs6UzbejV"
      },
      "outputs": [],
      "source": [
        "Audio(total, rate=fs)"
      ]
    },
    {
      "cell_type": "code",
      "execution_count": null,
      "metadata": {
        "id": "4Jxu7ZUNbejW"
      },
      "outputs": [],
      "source": [
        "write('files/total.wav', fs, total)"
      ]
    },
    {
      "cell_type": "code",
      "execution_count": null,
      "metadata": {
        "id": "tqh-ZPTEbejW"
      },
      "outputs": [],
      "source": [
        "len(data) / fs / 3600"
      ]
    },
    {
      "cell_type": "code",
      "execution_count": null,
      "metadata": {
        "id": "1TokHVPvbejW"
      },
      "outputs": [],
      "source": [
        "import soundfile as sf\n",
        "x, Fs = sf.read('files/0.wav')\n",
        "print(len(x))"
      ]
    }
  ],
  "metadata": {
    "colab": {
      "provenance": []
    },
    "kernelspec": {
      "display_name": "Python 3.10.5 64-bit",
      "language": "python",
      "name": "python3"
    },
    "language_info": {
      "codemirror_mode": {
        "name": "ipython",
        "version": 3
      },
      "file_extension": ".py",
      "mimetype": "text/x-python",
      "name": "python",
      "nbconvert_exporter": "python",
      "pygments_lexer": "ipython3",
      "version": "3.10.5"
    },
    "vscode": {
      "interpreter": {
        "hash": "fb4569285eef3a3450cb62085a5b1e0da4bce0af555edc33dcf29baf3acc1368"
      }
    }
  },
  "nbformat": 4,
  "nbformat_minor": 0
}
